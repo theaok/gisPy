{
  "nbformat": 4,
  "nbformat_minor": 0,
  "metadata": {
    "colab": {
      "provenance": [],
      "toc_visible": true,
      "authorship_tag": "ABX9TyOGRovBhvufAOo3RfqLJams",
      "include_colab_link": true
    },
    "kernelspec": {
      "name": "python3",
      "display_name": "Python 3"
    },
    "language_info": {
      "name": "python"
    }
  },
  "cells": [
    {
      "cell_type": "markdown",
      "metadata": {
        "id": "view-in-github",
        "colab_type": "text"
      },
      "source": [
        "<a href=\"https://colab.research.google.com/github/theaok/gisPy/blob/main/geoda.ipynb\" target=\"_parent\"><img src=\"https://colab.research.google.com/assets/colab-badge.svg\" alt=\"Open In Colab\"/></a>"
      ]
    },
    {
      "cell_type": "code",
      "source": [
        "!pip install pygeoda\n",
        "!pip install mapclassify\n"
      ],
      "metadata": {
        "colab": {
          "base_uri": "https://localhost:8080/"
        },
        "id": "_Lj1iS00_wmp",
        "outputId": "56fb70d5-e800-4a5a-d4bc-d77ddfe8bef8"
      },
      "execution_count": 1,
      "outputs": [
        {
          "output_type": "stream",
          "name": "stdout",
          "text": [
            "Collecting pygeoda\n",
            "  Downloading pygeoda-0.0.8.post1-cp310-cp310-manylinux_2_12_x86_64.manylinux2010_x86_64.whl (15.6 MB)\n",
            "\u001b[2K     \u001b[90m━━━━━━━━━━━━━━━━━━━━━━━━━━━━━━━━━━━━━━━━\u001b[0m \u001b[32m15.6/15.6 MB\u001b[0m \u001b[31m8.5 MB/s\u001b[0m eta \u001b[36m0:00:00\u001b[0m\n",
            "\u001b[?25hInstalling collected packages: pygeoda\n",
            "Successfully installed pygeoda-0.0.8.post1\n",
            "Collecting mapclassify\n",
            "  Downloading mapclassify-2.6.1-py3-none-any.whl (38 kB)\n",
            "Requirement already satisfied: networkx>=2.7 in /usr/local/lib/python3.10/dist-packages (from mapclassify) (3.2.1)\n",
            "Requirement already satisfied: numpy>=1.23 in /usr/local/lib/python3.10/dist-packages (from mapclassify) (1.23.5)\n",
            "Requirement already satisfied: pandas!=1.5.0,>=1.4 in /usr/local/lib/python3.10/dist-packages (from mapclassify) (1.5.3)\n",
            "Requirement already satisfied: scikit-learn>=1.0 in /usr/local/lib/python3.10/dist-packages (from mapclassify) (1.2.2)\n",
            "Requirement already satisfied: scipy>=1.8 in /usr/local/lib/python3.10/dist-packages (from mapclassify) (1.11.3)\n",
            "Requirement already satisfied: python-dateutil>=2.8.1 in /usr/local/lib/python3.10/dist-packages (from pandas!=1.5.0,>=1.4->mapclassify) (2.8.2)\n",
            "Requirement already satisfied: pytz>=2020.1 in /usr/local/lib/python3.10/dist-packages (from pandas!=1.5.0,>=1.4->mapclassify) (2023.3.post1)\n",
            "Requirement already satisfied: joblib>=1.1.1 in /usr/local/lib/python3.10/dist-packages (from scikit-learn>=1.0->mapclassify) (1.3.2)\n",
            "Requirement already satisfied: threadpoolctl>=2.0.0 in /usr/local/lib/python3.10/dist-packages (from scikit-learn>=1.0->mapclassify) (3.2.0)\n",
            "Requirement already satisfied: six>=1.5 in /usr/local/lib/python3.10/dist-packages (from python-dateutil>=2.8.1->pandas!=1.5.0,>=1.4->mapclassify) (1.16.0)\n",
            "Installing collected packages: mapclassify\n",
            "Successfully installed mapclassify-2.6.1\n"
          ]
        }
      ]
    },
    {
      "cell_type": "code",
      "execution_count": 2,
      "metadata": {
        "id": "vAJ0-mAF-k1R"
      },
      "outputs": [],
      "source": [
        "import os, zipfile\n",
        "import pygeoda\n",
        "import pandas as pd\n",
        "import geopandas as gpd\n",
        "\n",
        "import mapclassify\n",
        "\n",
        "from IPython.core.interactiveshell import InteractiveShell\n",
        "InteractiveShell.ast_node_interactivity = \"all\"\n",
        "\n",
        "from google.colab import data_table\n",
        "data_table.enable_dataframe_formatter()"
      ]
    },
    {
      "cell_type": "code",
      "source": [
        "!wget -q -O columbus.zip https://geodacenter.github.io/data-and-lab/data/columbus.zip\n",
        "zip_ref = zipfile.ZipFile('columbus.zip', 'r'); zip_ref.extractall(); zip_ref.close() #just unzipping\n",
        "!ls columbus\n",
        "col=gpd.read_file('columbus/columbus.shp')\n",
        "#col.set_index('POLYID',inplace=True, drop=True,verify_integrity=True) #BUG gets wieght creation messed up :("
      ],
      "metadata": {
        "colab": {
          "base_uri": "https://localhost:8080/"
        },
        "id": "Vp9hWCoPBKoh",
        "outputId": "1614b0a6-5271-4a2b-afaf-178ea83d7bfb"
      },
      "execution_count": 3,
      "outputs": [
        {
          "output_type": "stream",
          "name": "stdout",
          "text": [
            "columbus.csv  columbus.geojson\tcolumbus.kml  columbus.prj  columbus.sqlite\n",
            "columbus.dbf  columbus.gpkg\tcolumbus.mid  columbus.shp  columbus.xlsx\n",
            "columbus.gdb  columbus.html\tcolumbus.mif  columbus.shx\n"
          ]
        }
      ]
    },
    {
      "cell_type": "code",
      "source": [
        "col.dtypes"
      ],
      "metadata": {
        "colab": {
          "base_uri": "https://localhost:8080/"
        },
        "id": "YzDABXbXBo8Y",
        "outputId": "0fb2f222-af66-4513-c8a3-19c0516a7d0a"
      },
      "execution_count": 4,
      "outputs": [
        {
          "output_type": "execute_result",
          "data": {
            "text/plain": [
              "AREA           float64\n",
              "PERIMETER      float64\n",
              "COLUMBUS_        int64\n",
              "COLUMBUS_I       int64\n",
              "POLYID           int64\n",
              "NEIG             int64\n",
              "HOVAL          float64\n",
              "INC            float64\n",
              "CRIME          float64\n",
              "OPEN           float64\n",
              "PLUMB          float64\n",
              "DISCBD         float64\n",
              "X              float64\n",
              "Y              float64\n",
              "NSA            float64\n",
              "NSB            float64\n",
              "EW             float64\n",
              "CP             float64\n",
              "THOUS          float64\n",
              "NEIGNO         float64\n",
              "geometry      geometry\n",
              "dtype: object"
            ]
          },
          "metadata": {},
          "execution_count": 4
        }
      ]
    },
    {
      "cell_type": "code",
      "source": [
        "col=col.drop(['AREA','PERIMETER','NSA','NSB','EW','CP'],axis=1)\n",
        "col.head(2)"
      ],
      "metadata": {
        "colab": {
          "base_uri": "https://localhost:8080/",
          "height": 2235
        },
        "id": "rKAyMOzyHGAp",
        "outputId": "90c2bc86-7ff6-4ac5-cc1d-ecf14565d6e2"
      },
      "execution_count": 5,
      "outputs": [
        {
          "output_type": "execute_result",
          "data": {
            "text/plain": [
              "   COLUMBUS_  COLUMBUS_I  POLYID  NEIG      HOVAL     INC      CRIME  \\\n",
              "0          2           5       1     5  80.467003  19.531  15.725980   \n",
              "1          3           1       2     1  44.567001  21.232  18.801754   \n",
              "\n",
              "       OPEN     PLUMB  DISCBD          X          Y   THOUS  NEIGNO  \\\n",
              "0  2.850747  0.217155    5.03  38.799999  44.070000  1000.0  1005.0   \n",
              "1  5.296720  0.320581    4.27  35.619999  42.380001  1000.0  1001.0   \n",
              "\n",
              "                                            geometry  \n",
              "0  POLYGON ((8.62413 14.23698, 8.55970 14.74245, ...  \n",
              "1  POLYGON ((8.25279 14.23694, 8.28276 14.22994, ...  "
            ],
            "text/html": [
              "\n",
              "  <div id=\"df-08d5daf3-7346-4037-9266-7e28c7578c24\" class=\"colab-df-container\">\n",
              "    <div>\n",
              "<style scoped>\n",
              "    .dataframe tbody tr th:only-of-type {\n",
              "        vertical-align: middle;\n",
              "    }\n",
              "\n",
              "    .dataframe tbody tr th {\n",
              "        vertical-align: top;\n",
              "    }\n",
              "\n",
              "    .dataframe thead th {\n",
              "        text-align: right;\n",
              "    }\n",
              "</style>\n",
              "<table border=\"1\" class=\"dataframe\">\n",
              "  <thead>\n",
              "    <tr style=\"text-align: right;\">\n",
              "      <th></th>\n",
              "      <th>COLUMBUS_</th>\n",
              "      <th>COLUMBUS_I</th>\n",
              "      <th>POLYID</th>\n",
              "      <th>NEIG</th>\n",
              "      <th>HOVAL</th>\n",
              "      <th>INC</th>\n",
              "      <th>CRIME</th>\n",
              "      <th>OPEN</th>\n",
              "      <th>PLUMB</th>\n",
              "      <th>DISCBD</th>\n",
              "      <th>X</th>\n",
              "      <th>Y</th>\n",
              "      <th>THOUS</th>\n",
              "      <th>NEIGNO</th>\n",
              "      <th>geometry</th>\n",
              "    </tr>\n",
              "  </thead>\n",
              "  <tbody>\n",
              "    <tr>\n",
              "      <th>0</th>\n",
              "      <td>2</td>\n",
              "      <td>5</td>\n",
              "      <td>1</td>\n",
              "      <td>5</td>\n",
              "      <td>80.467003</td>\n",
              "      <td>19.531</td>\n",
              "      <td>15.725980</td>\n",
              "      <td>2.850747</td>\n",
              "      <td>0.217155</td>\n",
              "      <td>5.03</td>\n",
              "      <td>38.799999</td>\n",
              "      <td>44.070000</td>\n",
              "      <td>1000.0</td>\n",
              "      <td>1005.0</td>\n",
              "      <td>POLYGON ((8.62413 14.23698, 8.55970 14.74245, ...</td>\n",
              "    </tr>\n",
              "    <tr>\n",
              "      <th>1</th>\n",
              "      <td>3</td>\n",
              "      <td>1</td>\n",
              "      <td>2</td>\n",
              "      <td>1</td>\n",
              "      <td>44.567001</td>\n",
              "      <td>21.232</td>\n",
              "      <td>18.801754</td>\n",
              "      <td>5.296720</td>\n",
              "      <td>0.320581</td>\n",
              "      <td>4.27</td>\n",
              "      <td>35.619999</td>\n",
              "      <td>42.380001</td>\n",
              "      <td>1000.0</td>\n",
              "      <td>1001.0</td>\n",
              "      <td>POLYGON ((8.25279 14.23694, 8.28276 14.22994, ...</td>\n",
              "    </tr>\n",
              "  </tbody>\n",
              "</table>\n",
              "</div>\n",
              "    <div class=\"colab-df-buttons\">\n",
              "\n",
              "  <div class=\"colab-df-container\">\n",
              "    <button class=\"colab-df-convert\" onclick=\"convertToInteractive('df-08d5daf3-7346-4037-9266-7e28c7578c24')\"\n",
              "            title=\"Convert this dataframe to an interactive table.\"\n",
              "            style=\"display:none;\">\n",
              "\n",
              "  <svg xmlns=\"http://www.w3.org/2000/svg\" height=\"24px\" viewBox=\"0 -960 960 960\">\n",
              "    <path d=\"M120-120v-720h720v720H120Zm60-500h600v-160H180v160Zm220 220h160v-160H400v160Zm0 220h160v-160H400v160ZM180-400h160v-160H180v160Zm440 0h160v-160H620v160ZM180-180h160v-160H180v160Zm440 0h160v-160H620v160Z\"/>\n",
              "  </svg>\n",
              "    </button>\n",
              "\n",
              "  <style>\n",
              "    .colab-df-container {\n",
              "      display:flex;\n",
              "      gap: 12px;\n",
              "    }\n",
              "\n",
              "    .colab-df-convert {\n",
              "      background-color: #E8F0FE;\n",
              "      border: none;\n",
              "      border-radius: 50%;\n",
              "      cursor: pointer;\n",
              "      display: none;\n",
              "      fill: #1967D2;\n",
              "      height: 32px;\n",
              "      padding: 0 0 0 0;\n",
              "      width: 32px;\n",
              "    }\n",
              "\n",
              "    .colab-df-convert:hover {\n",
              "      background-color: #E2EBFA;\n",
              "      box-shadow: 0px 1px 2px rgba(60, 64, 67, 0.3), 0px 1px 3px 1px rgba(60, 64, 67, 0.15);\n",
              "      fill: #174EA6;\n",
              "    }\n",
              "\n",
              "    .colab-df-buttons div {\n",
              "      margin-bottom: 4px;\n",
              "    }\n",
              "\n",
              "    [theme=dark] .colab-df-convert {\n",
              "      background-color: #3B4455;\n",
              "      fill: #D2E3FC;\n",
              "    }\n",
              "\n",
              "    [theme=dark] .colab-df-convert:hover {\n",
              "      background-color: #434B5C;\n",
              "      box-shadow: 0px 1px 3px 1px rgba(0, 0, 0, 0.15);\n",
              "      filter: drop-shadow(0px 1px 2px rgba(0, 0, 0, 0.3));\n",
              "      fill: #FFFFFF;\n",
              "    }\n",
              "  </style>\n",
              "\n",
              "    <script>\n",
              "      const buttonEl =\n",
              "        document.querySelector('#df-08d5daf3-7346-4037-9266-7e28c7578c24 button.colab-df-convert');\n",
              "      buttonEl.style.display =\n",
              "        google.colab.kernel.accessAllowed ? 'block' : 'none';\n",
              "\n",
              "      async function convertToInteractive(key) {\n",
              "        const element = document.querySelector('#df-08d5daf3-7346-4037-9266-7e28c7578c24');\n",
              "        const dataTable =\n",
              "          await google.colab.kernel.invokeFunction('convertToInteractive',\n",
              "                                                    [key], {});\n",
              "        if (!dataTable) return;\n",
              "\n",
              "        const docLinkHtml = 'Like what you see? Visit the ' +\n",
              "          '<a target=\"_blank\" href=https://colab.research.google.com/notebooks/data_table.ipynb>data table notebook</a>'\n",
              "          + ' to learn more about interactive tables.';\n",
              "        element.innerHTML = '';\n",
              "        dataTable['output_type'] = 'display_data';\n",
              "        await google.colab.output.renderOutput(dataTable, element);\n",
              "        const docLink = document.createElement('div');\n",
              "        docLink.innerHTML = docLinkHtml;\n",
              "        element.appendChild(docLink);\n",
              "      }\n",
              "    </script>\n",
              "  </div>\n",
              "\n",
              "\n",
              "<div id=\"df-817d9589-4bb8-4981-8394-ec66ee56c88b\">\n",
              "  <button class=\"colab-df-quickchart\" onclick=\"quickchart('df-817d9589-4bb8-4981-8394-ec66ee56c88b')\"\n",
              "            title=\"Suggest charts\"\n",
              "            style=\"display:none;\">\n",
              "\n",
              "<svg xmlns=\"http://www.w3.org/2000/svg\" height=\"24px\"viewBox=\"0 0 24 24\"\n",
              "     width=\"24px\">\n",
              "    <g>\n",
              "        <path d=\"M19 3H5c-1.1 0-2 .9-2 2v14c0 1.1.9 2 2 2h14c1.1 0 2-.9 2-2V5c0-1.1-.9-2-2-2zM9 17H7v-7h2v7zm4 0h-2V7h2v10zm4 0h-2v-4h2v4z\"/>\n",
              "    </g>\n",
              "</svg>\n",
              "  </button>\n",
              "\n",
              "<style>\n",
              "  .colab-df-quickchart {\n",
              "      --bg-color: #E8F0FE;\n",
              "      --fill-color: #1967D2;\n",
              "      --hover-bg-color: #E2EBFA;\n",
              "      --hover-fill-color: #174EA6;\n",
              "      --disabled-fill-color: #AAA;\n",
              "      --disabled-bg-color: #DDD;\n",
              "  }\n",
              "\n",
              "  [theme=dark] .colab-df-quickchart {\n",
              "      --bg-color: #3B4455;\n",
              "      --fill-color: #D2E3FC;\n",
              "      --hover-bg-color: #434B5C;\n",
              "      --hover-fill-color: #FFFFFF;\n",
              "      --disabled-bg-color: #3B4455;\n",
              "      --disabled-fill-color: #666;\n",
              "  }\n",
              "\n",
              "  .colab-df-quickchart {\n",
              "    background-color: var(--bg-color);\n",
              "    border: none;\n",
              "    border-radius: 50%;\n",
              "    cursor: pointer;\n",
              "    display: none;\n",
              "    fill: var(--fill-color);\n",
              "    height: 32px;\n",
              "    padding: 0;\n",
              "    width: 32px;\n",
              "  }\n",
              "\n",
              "  .colab-df-quickchart:hover {\n",
              "    background-color: var(--hover-bg-color);\n",
              "    box-shadow: 0 1px 2px rgba(60, 64, 67, 0.3), 0 1px 3px 1px rgba(60, 64, 67, 0.15);\n",
              "    fill: var(--button-hover-fill-color);\n",
              "  }\n",
              "\n",
              "  .colab-df-quickchart-complete:disabled,\n",
              "  .colab-df-quickchart-complete:disabled:hover {\n",
              "    background-color: var(--disabled-bg-color);\n",
              "    fill: var(--disabled-fill-color);\n",
              "    box-shadow: none;\n",
              "  }\n",
              "\n",
              "  .colab-df-spinner {\n",
              "    border: 2px solid var(--fill-color);\n",
              "    border-color: transparent;\n",
              "    border-bottom-color: var(--fill-color);\n",
              "    animation:\n",
              "      spin 1s steps(1) infinite;\n",
              "  }\n",
              "\n",
              "  @keyframes spin {\n",
              "    0% {\n",
              "      border-color: transparent;\n",
              "      border-bottom-color: var(--fill-color);\n",
              "      border-left-color: var(--fill-color);\n",
              "    }\n",
              "    20% {\n",
              "      border-color: transparent;\n",
              "      border-left-color: var(--fill-color);\n",
              "      border-top-color: var(--fill-color);\n",
              "    }\n",
              "    30% {\n",
              "      border-color: transparent;\n",
              "      border-left-color: var(--fill-color);\n",
              "      border-top-color: var(--fill-color);\n",
              "      border-right-color: var(--fill-color);\n",
              "    }\n",
              "    40% {\n",
              "      border-color: transparent;\n",
              "      border-right-color: var(--fill-color);\n",
              "      border-top-color: var(--fill-color);\n",
              "    }\n",
              "    60% {\n",
              "      border-color: transparent;\n",
              "      border-right-color: var(--fill-color);\n",
              "    }\n",
              "    80% {\n",
              "      border-color: transparent;\n",
              "      border-right-color: var(--fill-color);\n",
              "      border-bottom-color: var(--fill-color);\n",
              "    }\n",
              "    90% {\n",
              "      border-color: transparent;\n",
              "      border-bottom-color: var(--fill-color);\n",
              "    }\n",
              "  }\n",
              "</style>\n",
              "\n",
              "  <script>\n",
              "    async function quickchart(key) {\n",
              "      const quickchartButtonEl =\n",
              "        document.querySelector('#' + key + ' button');\n",
              "      quickchartButtonEl.disabled = true;  // To prevent multiple clicks.\n",
              "      quickchartButtonEl.classList.add('colab-df-spinner');\n",
              "      try {\n",
              "        const charts = await google.colab.kernel.invokeFunction(\n",
              "            'suggestCharts', [key], {});\n",
              "      } catch (error) {\n",
              "        console.error('Error during call to suggestCharts:', error);\n",
              "      }\n",
              "      quickchartButtonEl.classList.remove('colab-df-spinner');\n",
              "      quickchartButtonEl.classList.add('colab-df-quickchart-complete');\n",
              "    }\n",
              "    (() => {\n",
              "      let quickchartButtonEl =\n",
              "        document.querySelector('#df-817d9589-4bb8-4981-8394-ec66ee56c88b button');\n",
              "      quickchartButtonEl.style.display =\n",
              "        google.colab.kernel.accessAllowed ? 'block' : 'none';\n",
              "    })();\n",
              "  </script>\n",
              "</div>\n",
              "    </div>\n",
              "  </div>\n"
            ],
            "application/vnd.google.colaboratory.module+javascript": "\n      import \"https://ssl.gstatic.com/colaboratory/data_table/881c4a0d49046431/data_table.js\";\n\n      const table = window.createDataTable({\n        data: [[{\n            'v': 0,\n            'f': \"0\",\n        },\n{\n            'v': 2,\n            'f': \"2\",\n        },\n{\n            'v': 5,\n            'f': \"5\",\n        },\n{\n            'v': 1,\n            'f': \"1\",\n        },\n{\n            'v': 5,\n            'f': \"5\",\n        },\n{\n            'v': 80.467003,\n            'f': \"80.467003\",\n        },\n{\n            'v': 19.531,\n            'f': \"19.531\",\n        },\n{\n            'v': 15.72598,\n            'f': \"15.72598\",\n        },\n{\n            'v': 2.850747,\n            'f': \"2.850747\",\n        },\n{\n            'v': 0.217155,\n            'f': \"0.217155\",\n        },\n{\n            'v': 5.03,\n            'f': \"5.03\",\n        },\n{\n            'v': 38.799999,\n            'f': \"38.799999\",\n        },\n{\n            'v': 44.07,\n            'f': \"44.07\",\n        },\n{\n            'v': 1000.0,\n            'f': \"1000.0\",\n        },\n{\n            'v': 1005.0,\n            'f': \"1005.0\",\n        },\n\"POLYGON ((8.624129295349121 14.236980438232422, 8.559700012207031 14.742449760437012, 8.809452056884766 14.734430313110352, 8.808412551879883 14.636520385742188, 8.919304847717285 14.638500213623047, 9.087138175964355 14.63049030303955, 9.09996509552002 14.244830131530762, 9.015047073364258 14.241840362548828, 9.008951187133789 13.995059967041016, 8.818140029907227 14.002050399780273, 8.653305053710938 14.008090019226074, 8.642902374267578 14.089710235595703, 8.63259220123291 14.1705904006958, 8.625825881958008 14.22367000579834, 8.624129295349121 14.236980438232422))\"],\n [{\n            'v': 1,\n            'f': \"1\",\n        },\n{\n            'v': 3,\n            'f': \"3\",\n        },\n{\n            'v': 1,\n            'f': \"1\",\n        },\n{\n            'v': 2,\n            'f': \"2\",\n        },\n{\n            'v': 1,\n            'f': \"1\",\n        },\n{\n            'v': 44.567001,\n            'f': \"44.567001\",\n        },\n{\n            'v': 21.232,\n            'f': \"21.232\",\n        },\n{\n            'v': 18.801754,\n            'f': \"18.801754\",\n        },\n{\n            'v': 5.29672,\n            'f': \"5.29672\",\n        },\n{\n            'v': 0.320581,\n            'f': \"0.320581\",\n        },\n{\n            'v': 4.27,\n            'f': \"4.27\",\n        },\n{\n            'v': 35.619999,\n            'f': \"35.619999\",\n        },\n{\n            'v': 42.380001,\n            'f': \"42.380001\",\n        },\n{\n            'v': 1000.0,\n            'f': \"1000.0\",\n        },\n{\n            'v': 1001.0,\n            'f': \"1001.0\",\n        },\n\"POLYGON ((8.252790451049805 14.236940383911133, 8.282757759094238 14.229940414428711, 8.330711364746094 14.229940414428711, 8.383658409118652 14.228930473327637, 8.444600105285645 14.228919982910156, 8.544504165649414 14.23490047454834, 8.624129295349121 14.236980438232422, 8.625825881958008 14.22367000579834, 8.63259220123291 14.1705904006958, 8.642902374267578 14.089710235595703, 8.653305053710938 14.008090019226074, 8.662188529968262 13.909899711608887, 8.666550636291504 13.861700057983398, 8.605281829833984 13.839249610900879, 8.579310417175293 13.8412504196167, 8.562577247619629 13.84253978729248, 8.540358543395996 13.842399597167969, 8.516386985778809 13.841679573059082, 8.502935409545898 13.838729858398438, 8.473407745361328 13.832269668579102, 8.45949935913086 13.82034969329834, 8.431432723999023 13.793310165405273, 8.415447235107422 13.79030990600586, 8.387155532836914 13.788969993591309, 8.37348747253418 13.78831958770752, 8.323546409606934 13.786080360412598, 8.284571647644043 13.784330368041992, 8.291547775268555 13.74137020111084, 8.229602813720703 13.72739028930664, 8.22661304473877 13.744379997253418, 8.215643882751465 13.794329643249512, 8.198686599731445 13.858280181884766, 8.16972541809082 13.883259773254395, 8.12777042388916 13.89225959777832, 8.093802452087402 13.891260147094727, 8.063838005065918 13.90526008605957, 8.044872283935547 13.943220138549805, 8.037888526916504 13.96720027923584, 7.999115943908691 14.02457046508789, 7.99936580657959 14.0349702835083, 8.003013610839844 14.187020301818848, 7.950088977813721 14.243969917297363, 8.111939430236816 14.263930320739746, 8.147891998291016 14.232959747314453, 8.181855201721191 14.225959777832031, 8.20982837677002 14.226949691772461, 8.252790451049805 14.236940383911133))\"]],\n        columns: [[\"number\", \"index\"], [\"number\", \"COLUMBUS_\"], [\"number\", \"COLUMBUS_I\"], [\"number\", \"POLYID\"], [\"number\", \"NEIG\"], [\"number\", \"HOVAL\"], [\"number\", \"INC\"], [\"number\", \"CRIME\"], [\"number\", \"OPEN\"], [\"number\", \"PLUMB\"], [\"number\", \"DISCBD\"], [\"number\", \"X\"], [\"number\", \"Y\"], [\"number\", \"THOUS\"], [\"number\", \"NEIGNO\"], [\"string\", \"geometry\"]],\n        columnOptions: [{\"width\": \"1px\", \"className\": \"index_column\"}],\n        rowsPerPage: 25,\n        helpUrl: \"https://colab.research.google.com/notebooks/data_table.ipynb\",\n        suppressOutputScrolling: true,\n        minimumWidth: undefined,\n      });\n\n      function appendQuickchartButton(parentElement) {\n        let quickchartButtonContainerElement = document.createElement('div');\n        quickchartButtonContainerElement.innerHTML = `\n<div id=\"df-e9ee5476-e122-47d0-884d-cf340231715e\">\n  <button class=\"colab-df-quickchart\" onclick=\"quickchart('df-e9ee5476-e122-47d0-884d-cf340231715e')\"\n            title=\"Suggest charts\"\n            style=\"display:none;\">\n    \n<svg xmlns=\"http://www.w3.org/2000/svg\" height=\"24px\"viewBox=\"0 0 24 24\"\n     width=\"24px\">\n    <g>\n        <path d=\"M19 3H5c-1.1 0-2 .9-2 2v14c0 1.1.9 2 2 2h14c1.1 0 2-.9 2-2V5c0-1.1-.9-2-2-2zM9 17H7v-7h2v7zm4 0h-2V7h2v10zm4 0h-2v-4h2v4z\"/>\n    </g>\n</svg>\n  </button>\n  \n<style>\n  .colab-df-quickchart {\n      --bg-color: #E8F0FE;\n      --fill-color: #1967D2;\n      --hover-bg-color: #E2EBFA;\n      --hover-fill-color: #174EA6;\n      --disabled-fill-color: #AAA;\n      --disabled-bg-color: #DDD;\n  }\n\n  [theme=dark] .colab-df-quickchart {\n      --bg-color: #3B4455;\n      --fill-color: #D2E3FC;\n      --hover-bg-color: #434B5C;\n      --hover-fill-color: #FFFFFF;\n      --disabled-bg-color: #3B4455;\n      --disabled-fill-color: #666;\n  }\n\n  .colab-df-quickchart {\n    background-color: var(--bg-color);\n    border: none;\n    border-radius: 50%;\n    cursor: pointer;\n    display: none;\n    fill: var(--fill-color);\n    height: 32px;\n    padding: 0;\n    width: 32px;\n  }\n\n  .colab-df-quickchart:hover {\n    background-color: var(--hover-bg-color);\n    box-shadow: 0 1px 2px rgba(60, 64, 67, 0.3), 0 1px 3px 1px rgba(60, 64, 67, 0.15);\n    fill: var(--button-hover-fill-color);\n  }\n\n  .colab-df-quickchart-complete:disabled,\n  .colab-df-quickchart-complete:disabled:hover {\n    background-color: var(--disabled-bg-color);\n    fill: var(--disabled-fill-color);\n    box-shadow: none;\n  }\n\n  .colab-df-spinner {\n    border: 2px solid var(--fill-color);\n    border-color: transparent;\n    border-bottom-color: var(--fill-color);\n    animation:\n      spin 1s steps(1) infinite;\n  }\n\n  @keyframes spin {\n    0% {\n      border-color: transparent;\n      border-bottom-color: var(--fill-color);\n      border-left-color: var(--fill-color);\n    }\n    20% {\n      border-color: transparent;\n      border-left-color: var(--fill-color);\n      border-top-color: var(--fill-color);\n    }\n    30% {\n      border-color: transparent;\n      border-left-color: var(--fill-color);\n      border-top-color: var(--fill-color);\n      border-right-color: var(--fill-color);\n    }\n    40% {\n      border-color: transparent;\n      border-right-color: var(--fill-color);\n      border-top-color: var(--fill-color);\n    }\n    60% {\n      border-color: transparent;\n      border-right-color: var(--fill-color);\n    }\n    80% {\n      border-color: transparent;\n      border-right-color: var(--fill-color);\n      border-bottom-color: var(--fill-color);\n    }\n    90% {\n      border-color: transparent;\n      border-bottom-color: var(--fill-color);\n    }\n  }\n</style>\n\n  <script>\n    async function quickchart(key) {\n      const quickchartButtonEl =\n        document.querySelector('#' + key + ' button');\n      quickchartButtonEl.disabled = true;  // To prevent multiple clicks.\n      quickchartButtonEl.classList.add('colab-df-spinner');\n      try {\n        const charts = await google.colab.kernel.invokeFunction(\n            'suggestCharts', [key], {});\n      } catch (error) {\n        console.error('Error during call to suggestCharts:', error);\n      }\n      quickchartButtonEl.classList.remove('colab-df-spinner');\n      quickchartButtonEl.classList.add('colab-df-quickchart-complete');\n    }\n    (() => {\n      let quickchartButtonEl =\n        document.querySelector('#df-e9ee5476-e122-47d0-884d-cf340231715e button');\n      quickchartButtonEl.style.display =\n        google.colab.kernel.accessAllowed ? 'block' : 'none';\n    })();\n  </script>\n</div>`;\n        parentElement.appendChild(quickchartButtonContainerElement);\n      }\n\n      appendQuickchartButton(table);\n    "
          },
          "metadata": {},
          "execution_count": 5
        }
      ]
    },
    {
      "cell_type": "code",
      "source": [
        "##import pyproj\n",
        "##col.to_crs(pyproj.CRS.from_epsg(4326), inplace=True)\n",
        "#px.choropleth(col, color=\"CRIME\",locations=col.index, geojson=col.geometry\n",
        "#                   )\n",
        "colP = col.copy()\n",
        "colP[\"geometry\"] = colP[\"geometry\"].centroid"
      ],
      "metadata": {
        "colab": {
          "base_uri": "https://localhost:8080/"
        },
        "id": "kHj6qkWHKd5x",
        "outputId": "60103087-3ae6-4abe-8d05-32745e4e1778"
      },
      "execution_count": 6,
      "outputs": [
        {
          "output_type": "stream",
          "name": "stderr",
          "text": [
            "<ipython-input-6-05319a68fc5c>:6: UserWarning: Geometry is in a geographic CRS. Results from 'centroid' are likely incorrect. Use 'GeoSeries.to_crs()' to re-project geometries to a projected CRS before this operation.\n",
            "\n",
            "  colP[\"geometry\"] = colP[\"geometry\"].centroid\n"
          ]
        }
      ]
    },
    {
      "cell_type": "code",
      "source": [
        "col.plot()"
      ],
      "metadata": {
        "colab": {
          "base_uri": "https://localhost:8080/",
          "height": 449
        },
        "id": "O4ks42ySBif3",
        "outputId": "c9e714af-6478-4045-a297-d351309cfa36"
      },
      "execution_count": 7,
      "outputs": [
        {
          "output_type": "execute_result",
          "data": {
            "text/plain": [
              "<Axes: >"
            ]
          },
          "metadata": {},
          "execution_count": 7
        },
        {
          "output_type": "display_data",
          "data": {
            "text/plain": [
              "<Figure size 640x480 with 1 Axes>"
            ],
            "image/png": "[encoded data removed]"
          },
          "metadata": {}
        }
      ]
    },
    {
      "cell_type": "code",
      "source": [
        "col.CRIME.hist()"
      ],
      "metadata": {
        "colab": {
          "base_uri": "https://localhost:8080/",
          "height": 449
        },
        "id": "L2rKFr-9IR_B",
        "outputId": "bfc28115-28f5-482c-8a50-d75e1c9f7d90"
      },
      "execution_count": null,
      "outputs": [
        {
          "output_type": "execute_result",
          "data": {
            "text/plain": [
              "<Axes: >"
            ]
          },
          "metadata": {},
          "execution_count": 145
        },
        {
          "output_type": "display_data",
          "data": {
            "text/plain": [
              "<Figure size 640x480 with 1 Axes>"
            ],
            "image/png": "[encoded data removed]"
          },
          "metadata": {}
        }
      ]
    },
    {
      "cell_type": "code",
      "source": [
        "ax=col.plot(column='CRIME',legend=True,cmap='YlOrRd') #,scheme='quantiles',k=5\n",
        "for x, y, label in zip(colP.geometry.x, colP.geometry.y, colP.index):\n",
        "    ax.annotate(label, xy=(x, y),horizontalalignment='center', fontsize=8) #ytext=(3, 3), textcoords=\"offset points\"\n",
        "#note be careful: double triple check, may be sometimes off depending on sorting, esp if not sorted on index: https://colab.research.google.com/github/theaok/vis/blob/main/all.ipynb#scrollTo=VVNjIKa67tJt"
      ],
      "metadata": {
        "colab": {
          "base_uri": "https://localhost:8080/",
          "height": 878
        },
        "id": "NhP9l5UrDh8J",
        "outputId": "f977a012-25a0-4773-841b-eb3e3c7251d8"
      },
      "execution_count": null,
      "outputs": [
        {
          "output_type": "execute_result",
          "data": {
            "text/plain": [
              "Text(8.827218469203908, 14.369076018912063, '0')"
            ]
          },
          "metadata": {},
          "execution_count": 222
        },
        {
          "output_type": "execute_result",
          "data": {
            "text/plain": [
              "Text(8.332658372724923, 14.031624006323966, '1')"
            ]
          },
          "metadata": {},
          "execution_count": 222
        },
        {
          "output_type": "execute_result",
          "data": {
            "text/plain": [
              "Text(9.0122654093717, 13.819719079969147, '2')"
            ]
          },
          "metadata": {},
          "execution_count": 222
        },
        {
          "output_type": "execute_result",
          "data": {
            "text/plain": [
              "Text(8.460800893307436, 13.716962170228141, '3')"
            ]
          },
          "metadata": {},
          "execution_count": 222
        },
        {
          "output_type": "execute_result",
          "data": {
            "text/plain": [
              "Text(9.007982127497685, 13.296366430537292, '4')"
            ]
          },
          "metadata": {},
          "execution_count": 222
        },
        {
          "output_type": "execute_result",
          "data": {
            "text/plain": [
              "Text(9.739925828001203, 13.474632743210716, '5')"
            ]
          },
          "metadata": {},
          "execution_count": 222
        },
        {
          "output_type": "execute_result",
          "data": {
            "text/plain": [
              "Text(8.118750060628729, 13.295703867053538, '6')"
            ]
          },
          "metadata": {},
          "execution_count": 222
        },
        {
          "output_type": "execute_result",
          "data": {
            "text/plain": [
              "Text(8.496488171957548, 13.402612361972409, '7')"
            ]
          },
          "metadata": {},
          "execution_count": 222
        },
        {
          "output_type": "execute_result",
          "data": {
            "text/plain": [
              "Text(9.630793442508981, 12.942724931765364, '8')"
            ]
          },
          "metadata": {},
          "execution_count": 222
        },
        {
          "output_type": "execute_result",
          "data": {
            "text/plain": [
              "Text(10.366382709801057, 13.00188936025309, '9')"
            ]
          },
          "metadata": {},
          "execution_count": 222
        },
        {
          "output_type": "execute_result",
          "data": {
            "text/plain": [
              "Text(8.669735412857046, 12.98012156123324, '10')"
            ]
          },
          "metadata": {},
          "execution_count": 222
        },
        {
          "output_type": "execute_result",
          "data": {
            "text/plain": [
              "Text(8.544995589641779, 12.9531256839822, '11')"
            ]
          },
          "metadata": {},
          "execution_count": 222
        },
        {
          "output_type": "execute_result",
          "data": {
            "text/plain": [
              "Text(8.349223482851055, 12.996094141102331, '12')"
            ]
          },
          "metadata": {},
          "execution_count": 222
        },
        {
          "output_type": "execute_result",
          "data": {
            "text/plain": [
              "Text(8.292701516920957, 12.863707688216895, '13')"
            ]
          },
          "metadata": {},
          "execution_count": 222
        },
        {
          "output_type": "execute_result",
          "data": {
            "text/plain": [
              "Text(8.973462206070094, 12.741586740380376, '14')"
            ]
          },
          "metadata": {},
          "execution_count": 222
        },
        {
          "output_type": "execute_result",
          "data": {
            "text/plain": [
              "Text(8.655866335560422, 12.62731580875412, '15')"
            ]
          },
          "metadata": {},
          "execution_count": 222
        },
        {
          "output_type": "execute_result",
          "data": {
            "text/plain": [
              "Text(10.528621192777077, 12.647475597059021, '16')"
            ]
          },
          "metadata": {},
          "execution_count": 222
        },
        {
          "output_type": "execute_result",
          "data": {
            "text/plain": [
              "Text(8.487918125725194, 12.545342471590063, '17')"
            ]
          },
          "metadata": {},
          "execution_count": 222
        },
        {
          "output_type": "execute_result",
          "data": {
            "text/plain": [
              "Text(8.312367703365632, 12.666720813263051, '18')"
            ]
          },
          "metadata": {},
          "execution_count": 222
        },
        {
          "output_type": "execute_result",
          "data": {
            "text/plain": [
              "Text(10.190581526179413, 12.256899149288648, '19')"
            ]
          },
          "metadata": {},
          "execution_count": 222
        },
        {
          "output_type": "execute_result",
          "data": {
            "text/plain": [
              "Text(7.847423618980444, 12.084997322022751, '20')"
            ]
          },
          "metadata": {},
          "execution_count": 222
        },
        {
          "output_type": "execute_result",
          "data": {
            "text/plain": [
              "Text(9.655244367498366, 12.462765864102984, '21')"
            ]
          },
          "metadata": {},
          "execution_count": 222
        },
        {
          "output_type": "execute_result",
          "data": {
            "text/plain": [
              "Text(10.671381108158549, 12.291571317666135, '22')"
            ]
          },
          "metadata": {},
          "execution_count": 222
        },
        {
          "output_type": "execute_result",
          "data": {
            "text/plain": [
              "Text(8.420744068273082, 12.318013434287653, '23')"
            ]
          },
          "metadata": {},
          "execution_count": 222
        },
        {
          "output_type": "execute_result",
          "data": {
            "text/plain": [
              "Text(8.938751825549426, 12.380509826386751, '24')"
            ]
          },
          "metadata": {},
          "execution_count": 222
        },
        {
          "output_type": "execute_result",
          "data": {
            "text/plain": [
              "Text(9.250921130765516, 12.413783516339139, '25')"
            ]
          },
          "metadata": {},
          "execution_count": 222
        },
        {
          "output_type": "execute_result",
          "data": {
            "text/plain": [
              "Text(9.737004148455055, 12.149692840219398, '26')"
            ]
          },
          "metadata": {},
          "execution_count": 222
        },
        {
          "output_type": "execute_result",
          "data": {
            "text/plain": [
              "Text(9.297975780128176, 11.977787924704433, '27')"
            ]
          },
          "metadata": {},
          "execution_count": 222
        },
        {
          "output_type": "execute_result",
          "data": {
            "text/plain": [
              "Text(8.977861502440566, 11.994012072407754, '28')"
            ]
          },
          "metadata": {},
          "execution_count": 222
        },
        {
          "output_type": "execute_result",
          "data": {
            "text/plain": [
              "Text(8.68871949319255, 11.938718355531323, '29')"
            ]
          },
          "metadata": {},
          "execution_count": 222
        },
        {
          "output_type": "execute_result",
          "data": {
            "text/plain": [
              "Text(6.8924823259937416, 11.914150957988443, '30')"
            ]
          },
          "metadata": {},
          "execution_count": 222
        },
        {
          "output_type": "execute_result",
          "data": {
            "text/plain": [
              "Text(10.76378352110245, 11.844431047650396, '31')"
            ]
          },
          "metadata": {},
          "execution_count": 222
        },
        {
          "output_type": "execute_result",
          "data": {
            "text/plain": [
              "Text(9.783876039871148, 11.922708164579584, '32')"
            ]
          },
          "metadata": {},
          "execution_count": 222
        },
        {
          "output_type": "execute_result",
          "data": {
            "text/plain": [
              "Text(7.33943071762272, 11.628545121558876, '33')"
            ]
          },
          "metadata": {},
          "execution_count": 222
        },
        {
          "output_type": "execute_result",
          "data": {
            "text/plain": [
              "Text(9.668248963690393, 11.692541207168867, '34')"
            ]
          },
          "metadata": {},
          "execution_count": 222
        },
        {
          "output_type": "execute_result",
          "data": {
            "text/plain": [
              "Text(6.728837547719331, 11.634364976122036, '35')"
            ]
          },
          "metadata": {},
          "execution_count": 222
        },
        {
          "output_type": "execute_result",
          "data": {
            "text/plain": [
              "Text(8.912362855719714, 11.630310543083501, '36')"
            ]
          },
          "metadata": {},
          "execution_count": 222
        },
        {
          "output_type": "execute_result",
          "data": {
            "text/plain": [
              "Text(9.210527335403754, 11.659838850006437, '37')"
            ]
          },
          "metadata": {},
          "execution_count": 222
        },
        {
          "output_type": "execute_result",
          "data": {
            "text/plain": [
              "Text(6.221942933898136, 11.402513578924117, '38')"
            ]
          },
          "metadata": {},
          "execution_count": 222
        },
        {
          "output_type": "execute_result",
          "data": {
            "text/plain": [
              "Text(10.492492572016708, 11.507197282569432, '39')"
            ]
          },
          "metadata": {},
          "execution_count": 222
        },
        {
          "output_type": "execute_result",
          "data": {
            "text/plain": [
              "Text(10.95358743637645, 11.479245868637376, '40')"
            ]
          },
          "metadata": {},
          "execution_count": 222
        },
        {
          "output_type": "execute_result",
          "data": {
            "text/plain": [
              "Text(7.1100509053908985, 11.295438892865233, '41')"
            ]
          },
          "metadata": {},
          "execution_count": 222
        },
        {
          "output_type": "execute_result",
          "data": {
            "text/plain": [
              "Text(9.214330280393483, 11.432771789368283, '42')"
            ]
          },
          "metadata": {},
          "execution_count": 222
        },
        {
          "output_type": "execute_result",
          "data": {
            "text/plain": [
              "Text(9.641904437882928, 11.391036212262494, '43')"
            ]
          },
          "metadata": {},
          "execution_count": 222
        },
        {
          "output_type": "execute_result",
          "data": {
            "text/plain": [
              "Text(8.910340473827835, 11.148639078569653, '44')"
            ]
          },
          "metadata": {},
          "execution_count": 222
        },
        {
          "output_type": "execute_result",
          "data": {
            "text/plain": [
              "Text(6.423385031583336, 11.219238093398321, '45')"
            ]
          },
          "metadata": {},
          "execution_count": 222
        },
        {
          "output_type": "execute_result",
          "data": {
            "text/plain": [
              "Text(10.935302271773978, 11.010030663664562, '46')"
            ]
          },
          "metadata": {},
          "execution_count": 222
        },
        {
          "output_type": "execute_result",
          "data": {
            "text/plain": [
              "Text(9.251957402833792, 11.181253873699427, '47')"
            ]
          },
          "metadata": {},
          "execution_count": 222
        },
        {
          "output_type": "execute_result",
          "data": {
            "text/plain": [
              "Text(9.492143530360028, 11.014961106511862, '48')"
            ]
          },
          "metadata": {},
          "execution_count": 222
        },
        {
          "output_type": "display_data",
          "data": {
            "text/plain": [
              "<Figure size 640x480 with 2 Axes>"
            ],
            "image/png": "[encoded data removed]"
          },
          "metadata": {}
        }
      ]
    },
    {
      "cell_type": "code",
      "source": [
        "ax=col.plot(column='CRIME',legend=True,scheme='percentiles',cmap='RdYlGn_r' ) #focus on outliers\n",
        "for x, y, label in zip(colP.geometry.x, colP.geometry.y, colP.index):\n",
        "    ax.annotate(label, xy=(x, y),horizontalalignment='center', fontsize=8) #ytext=(3, 3), textcoords=\"offset points\""
      ],
      "metadata": {
        "colab": {
          "base_uri": "https://localhost:8080/",
          "height": 902
        },
        "id": "kaUbTDheFuTS",
        "outputId": "a95e6948-dbda-46ff-d656-c41bd91def63"
      },
      "execution_count": null,
      "outputs": [
        {
          "output_type": "execute_result",
          "data": {
            "text/plain": [
              "Text(8.827218469203908, 14.369076018912063, '0')"
            ]
          },
          "metadata": {},
          "execution_count": 223
        },
        {
          "output_type": "execute_result",
          "data": {
            "text/plain": [
              "Text(8.332658372724923, 14.031624006323966, '1')"
            ]
          },
          "metadata": {},
          "execution_count": 223
        },
        {
          "output_type": "execute_result",
          "data": {
            "text/plain": [
              "Text(9.0122654093717, 13.819719079969147, '2')"
            ]
          },
          "metadata": {},
          "execution_count": 223
        },
        {
          "output_type": "execute_result",
          "data": {
            "text/plain": [
              "Text(8.460800893307436, 13.716962170228141, '3')"
            ]
          },
          "metadata": {},
          "execution_count": 223
        },
        {
          "output_type": "execute_result",
          "data": {
            "text/plain": [
              "Text(9.007982127497685, 13.296366430537292, '4')"
            ]
          },
          "metadata": {},
          "execution_count": 223
        },
        {
          "output_type": "execute_result",
          "data": {
            "text/plain": [
              "Text(9.739925828001203, 13.474632743210716, '5')"
            ]
          },
          "metadata": {},
          "execution_count": 223
        },
        {
          "output_type": "execute_result",
          "data": {
            "text/plain": [
              "Text(8.118750060628729, 13.295703867053538, '6')"
            ]
          },
          "metadata": {},
          "execution_count": 223
        },
        {
          "output_type": "execute_result",
          "data": {
            "text/plain": [
              "Text(8.496488171957548, 13.402612361972409, '7')"
            ]
          },
          "metadata": {},
          "execution_count": 223
        },
        {
          "output_type": "execute_result",
          "data": {
            "text/plain": [
              "Text(9.630793442508981, 12.942724931765364, '8')"
            ]
          },
          "metadata": {},
          "execution_count": 223
        },
        {
          "output_type": "execute_result",
          "data": {
            "text/plain": [
              "Text(10.366382709801057, 13.00188936025309, '9')"
            ]
          },
          "metadata": {},
          "execution_count": 223
        },
        {
          "output_type": "execute_result",
          "data": {
            "text/plain": [
              "Text(8.669735412857046, 12.98012156123324, '10')"
            ]
          },
          "metadata": {},
          "execution_count": 223
        },
        {
          "output_type": "execute_result",
          "data": {
            "text/plain": [
              "Text(8.544995589641779, 12.9531256839822, '11')"
            ]
          },
          "metadata": {},
          "execution_count": 223
        },
        {
          "output_type": "execute_result",
          "data": {
            "text/plain": [
              "Text(8.349223482851055, 12.996094141102331, '12')"
            ]
          },
          "metadata": {},
          "execution_count": 223
        },
        {
          "output_type": "execute_result",
          "data": {
            "text/plain": [
              "Text(8.292701516920957, 12.863707688216895, '13')"
            ]
          },
          "metadata": {},
          "execution_count": 223
        },
        {
          "output_type": "execute_result",
          "data": {
            "text/plain": [
              "Text(8.973462206070094, 12.741586740380376, '14')"
            ]
          },
          "metadata": {},
          "execution_count": 223
        },
        {
          "output_type": "execute_result",
          "data": {
            "text/plain": [
              "Text(8.655866335560422, 12.62731580875412, '15')"
            ]
          },
          "metadata": {},
          "execution_count": 223
        },
        {
          "output_type": "execute_result",
          "data": {
            "text/plain": [
              "Text(10.528621192777077, 12.647475597059021, '16')"
            ]
          },
          "metadata": {},
          "execution_count": 223
        },
        {
          "output_type": "execute_result",
          "data": {
            "text/plain": [
              "Text(8.487918125725194, 12.545342471590063, '17')"
            ]
          },
          "metadata": {},
          "execution_count": 223
        },
        {
          "output_type": "execute_result",
          "data": {
            "text/plain": [
              "Text(8.312367703365632, 12.666720813263051, '18')"
            ]
          },
          "metadata": {},
          "execution_count": 223
        },
        {
          "output_type": "execute_result",
          "data": {
            "text/plain": [
              "Text(10.190581526179413, 12.256899149288648, '19')"
            ]
          },
          "metadata": {},
          "execution_count": 223
        },
        {
          "output_type": "execute_result",
          "data": {
            "text/plain": [
              "Text(7.847423618980444, 12.084997322022751, '20')"
            ]
          },
          "metadata": {},
          "execution_count": 223
        },
        {
          "output_type": "execute_result",
          "data": {
            "text/plain": [
              "Text(9.655244367498366, 12.462765864102984, '21')"
            ]
          },
          "metadata": {},
          "execution_count": 223
        },
        {
          "output_type": "execute_result",
          "data": {
            "text/plain": [
              "Text(10.671381108158549, 12.291571317666135, '22')"
            ]
          },
          "metadata": {},
          "execution_count": 223
        },
        {
          "output_type": "execute_result",
          "data": {
            "text/plain": [
              "Text(8.420744068273082, 12.318013434287653, '23')"
            ]
          },
          "metadata": {},
          "execution_count": 223
        },
        {
          "output_type": "execute_result",
          "data": {
            "text/plain": [
              "Text(8.938751825549426, 12.380509826386751, '24')"
            ]
          },
          "metadata": {},
          "execution_count": 223
        },
        {
          "output_type": "execute_result",
          "data": {
            "text/plain": [
              "Text(9.250921130765516, 12.413783516339139, '25')"
            ]
          },
          "metadata": {},
          "execution_count": 223
        },
        {
          "output_type": "execute_result",
          "data": {
            "text/plain": [
              "Text(9.737004148455055, 12.149692840219398, '26')"
            ]
          },
          "metadata": {},
          "execution_count": 223
        },
        {
          "output_type": "execute_result",
          "data": {
            "text/plain": [
              "Text(9.297975780128176, 11.977787924704433, '27')"
            ]
          },
          "metadata": {},
          "execution_count": 223
        },
        {
          "output_type": "execute_result",
          "data": {
            "text/plain": [
              "Text(8.977861502440566, 11.994012072407754, '28')"
            ]
          },
          "metadata": {},
          "execution_count": 223
        },
        {
          "output_type": "execute_result",
          "data": {
            "text/plain": [
              "Text(8.68871949319255, 11.938718355531323, '29')"
            ]
          },
          "metadata": {},
          "execution_count": 223
        },
        {
          "output_type": "execute_result",
          "data": {
            "text/plain": [
              "Text(6.8924823259937416, 11.914150957988443, '30')"
            ]
          },
          "metadata": {},
          "execution_count": 223
        },
        {
          "output_type": "execute_result",
          "data": {
            "text/plain": [
              "Text(10.76378352110245, 11.844431047650396, '31')"
            ]
          },
          "metadata": {},
          "execution_count": 223
        },
        {
          "output_type": "execute_result",
          "data": {
            "text/plain": [
              "Text(9.783876039871148, 11.922708164579584, '32')"
            ]
          },
          "metadata": {},
          "execution_count": 223
        },
        {
          "output_type": "execute_result",
          "data": {
            "text/plain": [
              "Text(7.33943071762272, 11.628545121558876, '33')"
            ]
          },
          "metadata": {},
          "execution_count": 223
        },
        {
          "output_type": "execute_result",
          "data": {
            "text/plain": [
              "Text(9.668248963690393, 11.692541207168867, '34')"
            ]
          },
          "metadata": {},
          "execution_count": 223
        },
        {
          "output_type": "execute_result",
          "data": {
            "text/plain": [
              "Text(6.728837547719331, 11.634364976122036, '35')"
            ]
          },
          "metadata": {},
          "execution_count": 223
        },
        {
          "output_type": "execute_result",
          "data": {
            "text/plain": [
              "Text(8.912362855719714, 11.630310543083501, '36')"
            ]
          },
          "metadata": {},
          "execution_count": 223
        },
        {
          "output_type": "execute_result",
          "data": {
            "text/plain": [
              "Text(9.210527335403754, 11.659838850006437, '37')"
            ]
          },
          "metadata": {},
          "execution_count": 223
        },
        {
          "output_type": "execute_result",
          "data": {
            "text/plain": [
              "Text(6.221942933898136, 11.402513578924117, '38')"
            ]
          },
          "metadata": {},
          "execution_count": 223
        },
        {
          "output_type": "execute_result",
          "data": {
            "text/plain": [
              "Text(10.492492572016708, 11.507197282569432, '39')"
            ]
          },
          "metadata": {},
          "execution_count": 223
        },
        {
          "output_type": "execute_result",
          "data": {
            "text/plain": [
              "Text(10.95358743637645, 11.479245868637376, '40')"
            ]
          },
          "metadata": {},
          "execution_count": 223
        },
        {
          "output_type": "execute_result",
          "data": {
            "text/plain": [
              "Text(7.1100509053908985, 11.295438892865233, '41')"
            ]
          },
          "metadata": {},
          "execution_count": 223
        },
        {
          "output_type": "execute_result",
          "data": {
            "text/plain": [
              "Text(9.214330280393483, 11.432771789368283, '42')"
            ]
          },
          "metadata": {},
          "execution_count": 223
        },
        {
          "output_type": "execute_result",
          "data": {
            "text/plain": [
              "Text(9.641904437882928, 11.391036212262494, '43')"
            ]
          },
          "metadata": {},
          "execution_count": 223
        },
        {
          "output_type": "execute_result",
          "data": {
            "text/plain": [
              "Text(8.910340473827835, 11.148639078569653, '44')"
            ]
          },
          "metadata": {},
          "execution_count": 223
        },
        {
          "output_type": "execute_result",
          "data": {
            "text/plain": [
              "Text(6.423385031583336, 11.219238093398321, '45')"
            ]
          },
          "metadata": {},
          "execution_count": 223
        },
        {
          "output_type": "execute_result",
          "data": {
            "text/plain": [
              "Text(10.935302271773978, 11.010030663664562, '46')"
            ]
          },
          "metadata": {},
          "execution_count": 223
        },
        {
          "output_type": "execute_result",
          "data": {
            "text/plain": [
              "Text(9.251957402833792, 11.181253873699427, '47')"
            ]
          },
          "metadata": {},
          "execution_count": 223
        },
        {
          "output_type": "execute_result",
          "data": {
            "text/plain": [
              "Text(9.492143530360028, 11.014961106511862, '48')"
            ]
          },
          "metadata": {},
          "execution_count": 223
        },
        {
          "output_type": "display_data",
          "data": {
            "text/plain": [
              "<Figure size 640x480 with 1 Axes>"
            ],
            "image/png": "[encoded data removed]"
          },
          "metadata": {}
        }
      ]
    },
    {
      "cell_type": "code",
      "source": [
        "import plotly.express as px\n",
        "px.scatter(col, x=\"CRIME\", y=\"HOVAL\",\n",
        "                  hover_data=[col.index],width=1000,height=600)"
      ],
      "metadata": {
        "colab": {
          "base_uri": "https://localhost:8080/",
          "height": 637
        },
        "id": "S0icEVm1Ijmh",
        "outputId": "b8e7638e-0c09-4921-9773-6765e116da88"
      },
      "execution_count": null,
      "outputs": [
        {
          "output_type": "display_data",
          "data": {
            "text/html": [
              "<html>\n",
              "<head><meta charset=\"utf-8\" /></head>\n",
              "<body>\n",
              "    <div>            <script src=\"https://cdnjs.cloudflare.com/ajax/libs/mathjax/2.7.5/MathJax.js?config=TeX-AMS-MML_SVG\"></script><script type=\"text/javascript\">if (window.MathJax && window.MathJax.Hub && window.MathJax.Hub.Config) {window.MathJax.Hub.Config({SVG: {font: \"STIX-Web\"}});}</script>                <script type=\"text/javascript\">window.PlotlyConfig = {MathJaxConfig: 'local'};</script>\n",
              "        <script charset=\"utf-8\" src=\"https://cdn.plot.ly/plotly-2.24.1.min.js\"></script>                <div id=\"6eb24b85-fcd1-46f0-92b3-21424fa254a6\" class=\"plotly-graph-div\" style=\"height:600px; width:1000px;\"></div>            <script type=\"text/javascript\">                                    window.PLOTLYENV=window.PLOTLYENV || {};                                    if (document.getElementById(\"6eb24b85-fcd1-46f0-92b3-21424fa254a6\")) {                    Plotly.newPlot(                        \"6eb24b85-fcd1-46f0-92b3-21424fa254a6\",                        [{\"customdata\":[[0],[1],[2],[3],[4],[5],[6],[7],[8],[9],[10],[11],[12],[13],[14],[15],[16],[17],[18],[19],[20],[21],[22],[23],[24],[25],[26],[27],[28],[29],[30],[31],[32],[33],[34],[35],[36],[37],[38],[39],[40],[41],[42],[43],[44],[45],[46],[47],[48]],\"hovertemplate\":\"CRIME=%{x}\\u003cbr\\u003eHOVAL=%{y}\\u003cbr\\u003eindex=%{customdata[0]}\\u003cextra\\u003e\\u003c\\u002fextra\\u003e\",\"legendgroup\":\"\",\"marker\":{\"color\":\"#636efa\",\"symbol\":\"circle\"},\"mode\":\"markers\",\"name\":\"\",\"orientation\":\"v\",\"showlegend\":false,\"x\":[15.72598,18.801754,30.626781,32.38776,50.73151,26.066658,0.178269,38.425858,30.515917,34.000835,62.275448,56.705669,46.716129,57.066132,48.585487,54.838711,36.868774,43.962486,54.521965,0.223797,40.074074,33.705048,20.048504,38.297871,61.299175,40.969742,52.79443,56.919785,60.750446,68.892044,17.677214,19.145592,41.968163,23.974028,39.175053,14.305556,42.445076,53.710938,19.100863,16.241299,18.905146,16.49189,36.663612,25.962263,29.028488,16.530533,27.822861,26.645266,22.541491],\"xaxis\":\"x\",\"y\":[80.467003,44.567001,26.35,33.200001,23.225,28.75,75.0,37.125,52.599998,96.400002,19.700001,19.9,41.700001,42.900002,18.0,18.799999,41.75,60.0,30.6,81.266998,19.975,30.450001,47.733002,53.200001,17.9,20.299999,34.099998,22.85,32.5,22.5,31.799999,40.299999,23.6,28.450001,27.0,36.299999,43.299999,22.700001,39.599998,61.950001,42.099998,44.333,25.700001,33.5,27.733,76.099998,42.5,26.799999,35.799999],\"yaxis\":\"y\",\"type\":\"scatter\"}],                        {\"template\":{\"data\":{\"histogram2dcontour\":[{\"type\":\"histogram2dcontour\",\"colorbar\":{\"outlinewidth\":0,\"ticks\":\"\"},\"colorscale\":[[0.0,\"#0d0887\"],[0.1111111111111111,\"#46039f\"],[0.2222222222222222,\"#7201a8\"],[0.3333333333333333,\"#9c179e\"],[0.4444444444444444,\"#bd3786\"],[0.5555555555555556,\"#d8576b\"],[0.6666666666666666,\"#ed7953\"],[0.7777777777777778,\"#fb9f3a\"],[0.8888888888888888,\"#fdca26\"],[1.0,\"#f0f921\"]]}],\"choropleth\":[{\"type\":\"choropleth\",\"colorbar\":{\"outlinewidth\":0,\"ticks\":\"\"}}],\"histogram2d\":[{\"type\":\"histogram2d\",\"colorbar\":{\"outlinewidth\":0,\"ticks\":\"\"},\"colorscale\":[[0.0,\"#0d0887\"],[0.1111111111111111,\"#46039f\"],[0.2222222222222222,\"#7201a8\"],[0.3333333333333333,\"#9c179e\"],[0.4444444444444444,\"#bd3786\"],[0.5555555555555556,\"#d8576b\"],[0.6666666666666666,\"#ed7953\"],[0.7777777777777778,\"#fb9f3a\"],[0.8888888888888888,\"#fdca26\"],[1.0,\"#f0f921\"]]}],\"heatmap\":[{\"type\":\"heatmap\",\"colorbar\":{\"outlinewidth\":0,\"ticks\":\"\"},\"colorscale\":[[0.0,\"#0d0887\"],[0.1111111111111111,\"#46039f\"],[0.2222222222222222,\"#7201a8\"],[0.3333333333333333,\"#9c179e\"],[0.4444444444444444,\"#bd3786\"],[0.5555555555555556,\"#d8576b\"],[0.6666666666666666,\"#ed7953\"],[0.7777777777777778,\"#fb9f3a\"],[0.8888888888888888,\"#fdca26\"],[1.0,\"#f0f921\"]]}],\"heatmapgl\":[{\"type\":\"heatmapgl\",\"colorbar\":{\"outlinewidth\":0,\"ticks\":\"\"},\"colorscale\":[[0.0,\"#0d0887\"],[0.1111111111111111,\"#46039f\"],[0.2222222222222222,\"#7201a8\"],[0.3333333333333333,\"#9c179e\"],[0.4444444444444444,\"#bd3786\"],[0.5555555555555556,\"#d8576b\"],[0.6666666666666666,\"#ed7953\"],[0.7777777777777778,\"#fb9f3a\"],[0.8888888888888888,\"#fdca26\"],[1.0,\"#f0f921\"]]}],\"contourcarpet\":[{\"type\":\"contourcarpet\",\"colorbar\":{\"outlinewidth\":0,\"ticks\":\"\"}}],\"contour\":[{\"type\":\"contour\",\"colorbar\":{\"outlinewidth\":0,\"ticks\":\"\"},\"colorscale\":[[0.0,\"#0d0887\"],[0.1111111111111111,\"#46039f\"],[0.2222222222222222,\"#7201a8\"],[0.3333333333333333,\"#9c179e\"],[0.4444444444444444,\"#bd3786\"],[0.5555555555555556,\"#d8576b\"],[0.6666666666666666,\"#ed7953\"],[0.7777777777777778,\"#fb9f3a\"],[0.8888888888888888,\"#fdca26\"],[1.0,\"#f0f921\"]]}],\"surface\":[{\"type\":\"surface\",\"colorbar\":{\"outlinewidth\":0,\"ticks\":\"\"},\"colorscale\":[[0.0,\"#0d0887\"],[0.1111111111111111,\"#46039f\"],[0.2222222222222222,\"#7201a8\"],[0.3333333333333333,\"#9c179e\"],[0.4444444444444444,\"#bd3786\"],[0.5555555555555556,\"#d8576b\"],[0.6666666666666666,\"#ed7953\"],[0.7777777777777778,\"#fb9f3a\"],[0.8888888888888888,\"#fdca26\"],[1.0,\"#f0f921\"]]}],\"mesh3d\":[{\"type\":\"mesh3d\",\"colorbar\":{\"outlinewidth\":0,\"ticks\":\"\"}}],\"scatter\":[{\"fillpattern\":{\"fillmode\":\"overlay\",\"size\":10,\"solidity\":0.2},\"type\":\"scatter\"}],\"parcoords\":[{\"type\":\"parcoords\",\"line\":{\"colorbar\":{\"outlinewidth\":0,\"ticks\":\"\"}}}],\"scatterpolargl\":[{\"type\":\"scatterpolargl\",\"marker\":{\"colorbar\":{\"outlinewidth\":0,\"ticks\":\"\"}}}],\"bar\":[{\"error_x\":{\"color\":\"#2a3f5f\"},\"error_y\":{\"color\":\"#2a3f5f\"},\"marker\":{\"line\":{\"color\":\"#E5ECF6\",\"width\":0.5},\"pattern\":{\"fillmode\":\"overlay\",\"size\":10,\"solidity\":0.2}},\"type\":\"bar\"}],\"scattergeo\":[{\"type\":\"scattergeo\",\"marker\":{\"colorbar\":{\"outlinewidth\":0,\"ticks\":\"\"}}}],\"scatterpolar\":[{\"type\":\"scatterpolar\",\"marker\":{\"colorbar\":{\"outlinewidth\":0,\"ticks\":\"\"}}}],\"histogram\":[{\"marker\":{\"pattern\":{\"fillmode\":\"overlay\",\"size\":10,\"solidity\":0.2}},\"type\":\"histogram\"}],\"scattergl\":[{\"type\":\"scattergl\",\"marker\":{\"colorbar\":{\"outlinewidth\":0,\"ticks\":\"\"}}}],\"scatter3d\":[{\"type\":\"scatter3d\",\"line\":{\"colorbar\":{\"outlinewidth\":0,\"ticks\":\"\"}},\"marker\":{\"colorbar\":{\"outlinewidth\":0,\"ticks\":\"\"}}}],\"scattermapbox\":[{\"type\":\"scattermapbox\",\"marker\":{\"colorbar\":{\"outlinewidth\":0,\"ticks\":\"\"}}}],\"scatterternary\":[{\"type\":\"scatterternary\",\"marker\":{\"colorbar\":{\"outlinewidth\":0,\"ticks\":\"\"}}}],\"scattercarpet\":[{\"type\":\"scattercarpet\",\"marker\":{\"colorbar\":{\"outlinewidth\":0,\"ticks\":\"\"}}}],\"carpet\":[{\"aaxis\":{\"endlinecolor\":\"#2a3f5f\",\"gridcolor\":\"white\",\"linecolor\":\"white\",\"minorgridcolor\":\"white\",\"startlinecolor\":\"#2a3f5f\"},\"baxis\":{\"endlinecolor\":\"#2a3f5f\",\"gridcolor\":\"white\",\"linecolor\":\"white\",\"minorgridcolor\":\"white\",\"startlinecolor\":\"#2a3f5f\"},\"type\":\"carpet\"}],\"table\":[{\"cells\":{\"fill\":{\"color\":\"#EBF0F8\"},\"line\":{\"color\":\"white\"}},\"header\":{\"fill\":{\"color\":\"#C8D4E3\"},\"line\":{\"color\":\"white\"}},\"type\":\"table\"}],\"barpolar\":[{\"marker\":{\"line\":{\"color\":\"#E5ECF6\",\"width\":0.5},\"pattern\":{\"fillmode\":\"overlay\",\"size\":10,\"solidity\":0.2}},\"type\":\"barpolar\"}],\"pie\":[{\"automargin\":true,\"type\":\"pie\"}]},\"layout\":{\"autotypenumbers\":\"strict\",\"colorway\":[\"#636efa\",\"#EF553B\",\"#00cc96\",\"#ab63fa\",\"#FFA15A\",\"#19d3f3\",\"#FF6692\",\"#B6E880\",\"#FF97FF\",\"#FECB52\"],\"font\":{\"color\":\"#2a3f5f\"},\"hovermode\":\"closest\",\"hoverlabel\":{\"align\":\"left\"},\"paper_bgcolor\":\"white\",\"plot_bgcolor\":\"#E5ECF6\",\"polar\":{\"bgcolor\":\"#E5ECF6\",\"angularaxis\":{\"gridcolor\":\"white\",\"linecolor\":\"white\",\"ticks\":\"\"},\"radialaxis\":{\"gridcolor\":\"white\",\"linecolor\":\"white\",\"ticks\":\"\"}},\"ternary\":{\"bgcolor\":\"#E5ECF6\",\"aaxis\":{\"gridcolor\":\"white\",\"linecolor\":\"white\",\"ticks\":\"\"},\"baxis\":{\"gridcolor\":\"white\",\"linecolor\":\"white\",\"ticks\":\"\"},\"caxis\":{\"gridcolor\":\"white\",\"linecolor\":\"white\",\"ticks\":\"\"}},\"coloraxis\":{\"colorbar\":{\"outlinewidth\":0,\"ticks\":\"\"}},\"colorscale\":{\"sequential\":[[0.0,\"#0d0887\"],[0.1111111111111111,\"#46039f\"],[0.2222222222222222,\"#7201a8\"],[0.3333333333333333,\"#9c179e\"],[0.4444444444444444,\"#bd3786\"],[0.5555555555555556,\"#d8576b\"],[0.6666666666666666,\"#ed7953\"],[0.7777777777777778,\"#fb9f3a\"],[0.8888888888888888,\"#fdca26\"],[1.0,\"#f0f921\"]],\"sequentialminus\":[[0.0,\"#0d0887\"],[0.1111111111111111,\"#46039f\"],[0.2222222222222222,\"#7201a8\"],[0.3333333333333333,\"#9c179e\"],[0.4444444444444444,\"#bd3786\"],[0.5555555555555556,\"#d8576b\"],[0.6666666666666666,\"#ed7953\"],[0.7777777777777778,\"#fb9f3a\"],[0.8888888888888888,\"#fdca26\"],[1.0,\"#f0f921\"]],\"diverging\":[[0,\"#8e0152\"],[0.1,\"#c51b7d\"],[0.2,\"#de77ae\"],[0.3,\"#f1b6da\"],[0.4,\"#fde0ef\"],[0.5,\"#f7f7f7\"],[0.6,\"#e6f5d0\"],[0.7,\"#b8e186\"],[0.8,\"#7fbc41\"],[0.9,\"#4d9221\"],[1,\"#276419\"]]},\"xaxis\":{\"gridcolor\":\"white\",\"linecolor\":\"white\",\"ticks\":\"\",\"title\":{\"standoff\":15},\"zerolinecolor\":\"white\",\"automargin\":true,\"zerolinewidth\":2},\"yaxis\":{\"gridcolor\":\"white\",\"linecolor\":\"white\",\"ticks\":\"\",\"title\":{\"standoff\":15},\"zerolinecolor\":\"white\",\"automargin\":true,\"zerolinewidth\":2},\"scene\":{\"xaxis\":{\"backgroundcolor\":\"#E5ECF6\",\"gridcolor\":\"white\",\"linecolor\":\"white\",\"showbackground\":true,\"ticks\":\"\",\"zerolinecolor\":\"white\",\"gridwidth\":2},\"yaxis\":{\"backgroundcolor\":\"#E5ECF6\",\"gridcolor\":\"white\",\"linecolor\":\"white\",\"showbackground\":true,\"ticks\":\"\",\"zerolinecolor\":\"white\",\"gridwidth\":2},\"zaxis\":{\"backgroundcolor\":\"#E5ECF6\",\"gridcolor\":\"white\",\"linecolor\":\"white\",\"showbackground\":true,\"ticks\":\"\",\"zerolinecolor\":\"white\",\"gridwidth\":2}},\"shapedefaults\":{\"line\":{\"color\":\"#2a3f5f\"}},\"annotationdefaults\":{\"arrowcolor\":\"#2a3f5f\",\"arrowhead\":0,\"arrowwidth\":1},\"geo\":{\"bgcolor\":\"white\",\"landcolor\":\"#E5ECF6\",\"subunitcolor\":\"white\",\"showland\":true,\"showlakes\":true,\"lakecolor\":\"white\"},\"title\":{\"x\":0.05},\"mapbox\":{\"style\":\"light\"}}},\"xaxis\":{\"anchor\":\"y\",\"domain\":[0.0,1.0],\"title\":{\"text\":\"CRIME\"}},\"yaxis\":{\"anchor\":\"x\",\"domain\":[0.0,1.0],\"title\":{\"text\":\"HOVAL\"}},\"legend\":{\"tracegroupgap\":0},\"margin\":{\"t\":60},\"height\":600,\"width\":1000},                        {\"responsive\": true}                    ).then(function(){\n",
              "                            \n",
              "var gd = document.getElementById('6eb24b85-fcd1-46f0-92b3-21424fa254a6');\n",
              "var x = new MutationObserver(function (mutations, observer) {{\n",
              "        var display = window.getComputedStyle(gd).display;\n",
              "        if (!display || display === 'none') {{\n",
              "            console.log([gd, 'removed!']);\n",
              "            Plotly.purge(gd);\n",
              "            observer.disconnect();\n",
              "        }}\n",
              "}});\n",
              "\n",
              "// Listen for the removal of the full notebook cells\n",
              "var notebookContainer = gd.closest('#notebook-container');\n",
              "if (notebookContainer) {{\n",
              "    x.observe(notebookContainer, {childList: true});\n",
              "}}\n",
              "\n",
              "// Listen for the clearing of the current output cell\n",
              "var outputEl = gd.closest('.output');\n",
              "if (outputEl) {{\n",
              "    x.observe(outputEl, {childList: true});\n",
              "}}\n",
              "\n",
              "                        })                };                            </script>        </div>\n",
              "</body>\n",
              "</html>"
            ]
          },
          "metadata": {}
        }
      ]
    },
    {
      "cell_type": "code",
      "source": [
        "col.head(2)"
      ],
      "metadata": {
        "colab": {
          "base_uri": "https://localhost:8080/",
          "height": 2235
        },
        "id": "ezuZuLqqhDwh",
        "outputId": "a8fed337-8dcb-4c79-ecf1-88c1badfc644"
      },
      "execution_count": null,
      "outputs": [
        {
          "output_type": "execute_result",
          "data": {
            "text/plain": [
              "   COLUMBUS_  COLUMBUS_I  POLYID  NEIG      HOVAL     INC      CRIME  \\\n",
              "0          2           5       1     5  80.467003  19.531  15.725980   \n",
              "1          3           1       2     1  44.567001  21.232  18.801754   \n",
              "\n",
              "       OPEN     PLUMB  DISCBD          X          Y   THOUS  NEIGNO  \\\n",
              "0  2.850747  0.217155    5.03  38.799999  44.070000  1000.0  1005.0   \n",
              "1  5.296720  0.320581    4.27  35.619999  42.380001  1000.0  1001.0   \n",
              "\n",
              "                                            geometry  \n",
              "0  POLYGON ((8.62413 14.23698, 8.55970 14.74245, ...  \n",
              "1  POLYGON ((8.25279 14.23694, 8.28276 14.22994, ...  "
            ],
            "text/html": [
              "\n",
              "  <div id=\"df-283b36fd-c7a5-4dee-aa84-c16d559ad93d\" class=\"colab-df-container\">\n",
              "    <div>\n",
              "<style scoped>\n",
              "    .dataframe tbody tr th:only-of-type {\n",
              "        vertical-align: middle;\n",
              "    }\n",
              "\n",
              "    .dataframe tbody tr th {\n",
              "        vertical-align: top;\n",
              "    }\n",
              "\n",
              "    .dataframe thead th {\n",
              "        text-align: right;\n",
              "    }\n",
              "</style>\n",
              "<table border=\"1\" class=\"dataframe\">\n",
              "  <thead>\n",
              "    <tr style=\"text-align: right;\">\n",
              "      <th></th>\n",
              "      <th>COLUMBUS_</th>\n",
              "      <th>COLUMBUS_I</th>\n",
              "      <th>POLYID</th>\n",
              "      <th>NEIG</th>\n",
              "      <th>HOVAL</th>\n",
              "      <th>INC</th>\n",
              "      <th>CRIME</th>\n",
              "      <th>OPEN</th>\n",
              "      <th>PLUMB</th>\n",
              "      <th>DISCBD</th>\n",
              "      <th>X</th>\n",
              "      <th>Y</th>\n",
              "      <th>THOUS</th>\n",
              "      <th>NEIGNO</th>\n",
              "      <th>geometry</th>\n",
              "    </tr>\n",
              "  </thead>\n",
              "  <tbody>\n",
              "    <tr>\n",
              "      <th>0</th>\n",
              "      <td>2</td>\n",
              "      <td>5</td>\n",
              "      <td>1</td>\n",
              "      <td>5</td>\n",
              "      <td>80.467003</td>\n",
              "      <td>19.531</td>\n",
              "      <td>15.725980</td>\n",
              "      <td>2.850747</td>\n",
              "      <td>0.217155</td>\n",
              "      <td>5.03</td>\n",
              "      <td>38.799999</td>\n",
              "      <td>44.070000</td>\n",
              "      <td>1000.0</td>\n",
              "      <td>1005.0</td>\n",
              "      <td>POLYGON ((8.62413 14.23698, 8.55970 14.74245, ...</td>\n",
              "    </tr>\n",
              "    <tr>\n",
              "      <th>1</th>\n",
              "      <td>3</td>\n",
              "      <td>1</td>\n",
              "      <td>2</td>\n",
              "      <td>1</td>\n",
              "      <td>44.567001</td>\n",
              "      <td>21.232</td>\n",
              "      <td>18.801754</td>\n",
              "      <td>5.296720</td>\n",
              "      <td>0.320581</td>\n",
              "      <td>4.27</td>\n",
              "      <td>35.619999</td>\n",
              "      <td>42.380001</td>\n",
              "      <td>1000.0</td>\n",
              "      <td>1001.0</td>\n",
              "      <td>POLYGON ((8.25279 14.23694, 8.28276 14.22994, ...</td>\n",
              "    </tr>\n",
              "  </tbody>\n",
              "</table>\n",
              "</div>\n",
              "    <div class=\"colab-df-buttons\">\n",
              "\n",
              "  <div class=\"colab-df-container\">\n",
              "    <button class=\"colab-df-convert\" onclick=\"convertToInteractive('df-283b36fd-c7a5-4dee-aa84-c16d559ad93d')\"\n",
              "            title=\"Convert this dataframe to an interactive table.\"\n",
              "            style=\"display:none;\">\n",
              "\n",
              "  <svg xmlns=\"http://www.w3.org/2000/svg\" height=\"24px\" viewBox=\"0 -960 960 960\">\n",
              "    <path d=\"M120-120v-720h720v720H120Zm60-500h600v-160H180v160Zm220 220h160v-160H400v160Zm0 220h160v-160H400v160ZM180-400h160v-160H180v160Zm440 0h160v-160H620v160ZM180-180h160v-160H180v160Zm440 0h160v-160H620v160Z\"/>\n",
              "  </svg>\n",
              "    </button>\n",
              "\n",
              "  <style>\n",
              "    .colab-df-container {\n",
              "      display:flex;\n",
              "      gap: 12px;\n",
              "    }\n",
              "\n",
              "    .colab-df-convert {\n",
              "      background-color: #E8F0FE;\n",
              "      border: none;\n",
              "      border-radius: 50%;\n",
              "      cursor: pointer;\n",
              "      display: none;\n",
              "      fill: #1967D2;\n",
              "      height: 32px;\n",
              "      padding: 0 0 0 0;\n",
              "      width: 32px;\n",
              "    }\n",
              "\n",
              "    .colab-df-convert:hover {\n",
              "      background-color: #E2EBFA;\n",
              "      box-shadow: 0px 1px 2px rgba(60, 64, 67, 0.3), 0px 1px 3px 1px rgba(60, 64, 67, 0.15);\n",
              "      fill: #174EA6;\n",
              "    }\n",
              "\n",
              "    .colab-df-buttons div {\n",
              "      margin-bottom: 4px;\n",
              "    }\n",
              "\n",
              "    [theme=dark] .colab-df-convert {\n",
              "      background-color: #3B4455;\n",
              "      fill: #D2E3FC;\n",
              "    }\n",
              "\n",
              "    [theme=dark] .colab-df-convert:hover {\n",
              "      background-color: #434B5C;\n",
              "      box-shadow: 0px 1px 3px 1px rgba(0, 0, 0, 0.15);\n",
              "      filter: drop-shadow(0px 1px 2px rgba(0, 0, 0, 0.3));\n",
              "      fill: #FFFFFF;\n",
              "    }\n",
              "  </style>\n",
              "\n",
              "    <script>\n",
              "      const buttonEl =\n",
              "        document.querySelector('#df-283b36fd-c7a5-4dee-aa84-c16d559ad93d button.colab-df-convert');\n",
              "      buttonEl.style.display =\n",
              "        google.colab.kernel.accessAllowed ? 'block' : 'none';\n",
              "\n",
              "      async function convertToInteractive(key) {\n",
              "        const element = document.querySelector('#df-283b36fd-c7a5-4dee-aa84-c16d559ad93d');\n",
              "        const dataTable =\n",
              "          await google.colab.kernel.invokeFunction('convertToInteractive',\n",
              "                                                    [key], {});\n",
              "        if (!dataTable) return;\n",
              "\n",
              "        const docLinkHtml = 'Like what you see? Visit the ' +\n",
              "          '<a target=\"_blank\" href=https://colab.research.google.com/notebooks/data_table.ipynb>data table notebook</a>'\n",
              "          + ' to learn more about interactive tables.';\n",
              "        element.innerHTML = '';\n",
              "        dataTable['output_type'] = 'display_data';\n",
              "        await google.colab.output.renderOutput(dataTable, element);\n",
              "        const docLink = document.createElement('div');\n",
              "        docLink.innerHTML = docLinkHtml;\n",
              "        element.appendChild(docLink);\n",
              "      }\n",
              "    </script>\n",
              "  </div>\n",
              "\n",
              "\n",
              "<div id=\"df-22ddbcd8-bb70-42ca-a4b9-b261d8ea99bb\">\n",
              "  <button class=\"colab-df-quickchart\" onclick=\"quickchart('df-22ddbcd8-bb70-42ca-a4b9-b261d8ea99bb')\"\n",
              "            title=\"Suggest charts.\"\n",
              "            style=\"display:none;\">\n",
              "\n",
              "<svg xmlns=\"http://www.w3.org/2000/svg\" height=\"24px\"viewBox=\"0 0 24 24\"\n",
              "     width=\"24px\">\n",
              "    <g>\n",
              "        <path d=\"M19 3H5c-1.1 0-2 .9-2 2v14c0 1.1.9 2 2 2h14c1.1 0 2-.9 2-2V5c0-1.1-.9-2-2-2zM9 17H7v-7h2v7zm4 0h-2V7h2v10zm4 0h-2v-4h2v4z\"/>\n",
              "    </g>\n",
              "</svg>\n",
              "  </button>\n",
              "\n",
              "<style>\n",
              "  .colab-df-quickchart {\n",
              "      --bg-color: #E8F0FE;\n",
              "      --fill-color: #1967D2;\n",
              "      --hover-bg-color: #E2EBFA;\n",
              "      --hover-fill-color: #174EA6;\n",
              "      --disabled-fill-color: #AAA;\n",
              "      --disabled-bg-color: #DDD;\n",
              "  }\n",
              "\n",
              "  [theme=dark] .colab-df-quickchart {\n",
              "      --bg-color: #3B4455;\n",
              "      --fill-color: #D2E3FC;\n",
              "      --hover-bg-color: #434B5C;\n",
              "      --hover-fill-color: #FFFFFF;\n",
              "      --disabled-bg-color: #3B4455;\n",
              "      --disabled-fill-color: #666;\n",
              "  }\n",
              "\n",
              "  .colab-df-quickchart {\n",
              "    background-color: var(--bg-color);\n",
              "    border: none;\n",
              "    border-radius: 50%;\n",
              "    cursor: pointer;\n",
              "    display: none;\n",
              "    fill: var(--fill-color);\n",
              "    height: 32px;\n",
              "    padding: 0;\n",
              "    width: 32px;\n",
              "  }\n",
              "\n",
              "  .colab-df-quickchart:hover {\n",
              "    background-color: var(--hover-bg-color);\n",
              "    box-shadow: 0 1px 2px rgba(60, 64, 67, 0.3), 0 1px 3px 1px rgba(60, 64, 67, 0.15);\n",
              "    fill: var(--button-hover-fill-color);\n",
              "  }\n",
              "\n",
              "  .colab-df-quickchart-complete:disabled,\n",
              "  .colab-df-quickchart-complete:disabled:hover {\n",
              "    background-color: var(--disabled-bg-color);\n",
              "    fill: var(--disabled-fill-color);\n",
              "    box-shadow: none;\n",
              "  }\n",
              "\n",
              "  .colab-df-spinner {\n",
              "    border: 2px solid var(--fill-color);\n",
              "    border-color: transparent;\n",
              "    border-bottom-color: var(--fill-color);\n",
              "    animation:\n",
              "      spin 1s steps(1) infinite;\n",
              "  }\n",
              "\n",
              "  @keyframes spin {\n",
              "    0% {\n",
              "      border-color: transparent;\n",
              "      border-bottom-color: var(--fill-color);\n",
              "      border-left-color: var(--fill-color);\n",
              "    }\n",
              "    20% {\n",
              "      border-color: transparent;\n",
              "      border-left-color: var(--fill-color);\n",
              "      border-top-color: var(--fill-color);\n",
              "    }\n",
              "    30% {\n",
              "      border-color: transparent;\n",
              "      border-left-color: var(--fill-color);\n",
              "      border-top-color: var(--fill-color);\n",
              "      border-right-color: var(--fill-color);\n",
              "    }\n",
              "    40% {\n",
              "      border-color: transparent;\n",
              "      border-right-color: var(--fill-color);\n",
              "      border-top-color: var(--fill-color);\n",
              "    }\n",
              "    60% {\n",
              "      border-color: transparent;\n",
              "      border-right-color: var(--fill-color);\n",
              "    }\n",
              "    80% {\n",
              "      border-color: transparent;\n",
              "      border-right-color: var(--fill-color);\n",
              "      border-bottom-color: var(--fill-color);\n",
              "    }\n",
              "    90% {\n",
              "      border-color: transparent;\n",
              "      border-bottom-color: var(--fill-color);\n",
              "    }\n",
              "  }\n",
              "</style>\n",
              "\n",
              "  <script>\n",
              "    async function quickchart(key) {\n",
              "      const quickchartButtonEl =\n",
              "        document.querySelector('#' + key + ' button');\n",
              "      quickchartButtonEl.disabled = true;  // To prevent multiple clicks.\n",
              "      quickchartButtonEl.classList.add('colab-df-spinner');\n",
              "      try {\n",
              "        const charts = await google.colab.kernel.invokeFunction(\n",
              "            'suggestCharts', [key], {});\n",
              "      } catch (error) {\n",
              "        console.error('Error during call to suggestCharts:', error);\n",
              "      }\n",
              "      quickchartButtonEl.classList.remove('colab-df-spinner');\n",
              "      quickchartButtonEl.classList.add('colab-df-quickchart-complete');\n",
              "    }\n",
              "    (() => {\n",
              "      let quickchartButtonEl =\n",
              "        document.querySelector('#df-22ddbcd8-bb70-42ca-a4b9-b261d8ea99bb button');\n",
              "      quickchartButtonEl.style.display =\n",
              "        google.colab.kernel.accessAllowed ? 'block' : 'none';\n",
              "    })();\n",
              "  </script>\n",
              "</div>\n",
              "    </div>\n",
              "  </div>\n"
            ],
            "application/vnd.google.colaboratory.module+javascript": "\n      import \"https://ssl.gstatic.com/colaboratory/data_table/881c4a0d49046431/data_table.js\";\n\n      const table = window.createDataTable({\n        data: [[{\n            'v': 0,\n            'f': \"0\",\n        },\n{\n            'v': 2,\n            'f': \"2\",\n        },\n{\n            'v': 5,\n            'f': \"5\",\n        },\n{\n            'v': 1,\n            'f': \"1\",\n        },\n{\n            'v': 5,\n            'f': \"5\",\n        },\n{\n            'v': 80.467003,\n            'f': \"80.467003\",\n        },\n{\n            'v': 19.531,\n            'f': \"19.531\",\n        },\n{\n            'v': 15.72598,\n            'f': \"15.72598\",\n        },\n{\n            'v': 2.850747,\n            'f': \"2.850747\",\n        },\n{\n            'v': 0.217155,\n            'f': \"0.217155\",\n        },\n{\n            'v': 5.03,\n            'f': \"5.03\",\n        },\n{\n            'v': 38.799999,\n            'f': \"38.799999\",\n        },\n{\n            'v': 44.07,\n            'f': \"44.07\",\n        },\n{\n            'v': 1000.0,\n            'f': \"1000.0\",\n        },\n{\n            'v': 1005.0,\n            'f': \"1005.0\",\n        },\n\"POLYGON ((8.624129295349121 14.236980438232422, 8.559700012207031 14.742449760437012, 8.809452056884766 14.734430313110352, 8.808412551879883 14.636520385742188, 8.919304847717285 14.638500213623047, 9.087138175964355 14.63049030303955, 9.09996509552002 14.244830131530762, 9.015047073364258 14.241840362548828, 9.008951187133789 13.995059967041016, 8.818140029907227 14.002050399780273, 8.653305053710938 14.008090019226074, 8.642902374267578 14.089710235595703, 8.63259220123291 14.1705904006958, 8.625825881958008 14.22367000579834, 8.624129295349121 14.236980438232422))\"],\n [{\n            'v': 1,\n            'f': \"1\",\n        },\n{\n            'v': 3,\n            'f': \"3\",\n        },\n{\n            'v': 1,\n            'f': \"1\",\n        },\n{\n            'v': 2,\n            'f': \"2\",\n        },\n{\n            'v': 1,\n            'f': \"1\",\n        },\n{\n            'v': 44.567001,\n            'f': \"44.567001\",\n        },\n{\n            'v': 21.232,\n            'f': \"21.232\",\n        },\n{\n            'v': 18.801754,\n            'f': \"18.801754\",\n        },\n{\n            'v': 5.29672,\n            'f': \"5.29672\",\n        },\n{\n            'v': 0.320581,\n            'f': \"0.320581\",\n        },\n{\n            'v': 4.27,\n            'f': \"4.27\",\n        },\n{\n            'v': 35.619999,\n            'f': \"35.619999\",\n        },\n{\n            'v': 42.380001,\n            'f': \"42.380001\",\n        },\n{\n            'v': 1000.0,\n            'f': \"1000.0\",\n        },\n{\n            'v': 1001.0,\n            'f': \"1001.0\",\n        },\n\"POLYGON ((8.252790451049805 14.236940383911133, 8.282757759094238 14.229940414428711, 8.330711364746094 14.229940414428711, 8.383658409118652 14.228930473327637, 8.444600105285645 14.228919982910156, 8.544504165649414 14.23490047454834, 8.624129295349121 14.236980438232422, 8.625825881958008 14.22367000579834, 8.63259220123291 14.1705904006958, 8.642902374267578 14.089710235595703, 8.653305053710938 14.008090019226074, 8.662188529968262 13.909899711608887, 8.666550636291504 13.861700057983398, 8.605281829833984 13.839249610900879, 8.579310417175293 13.8412504196167, 8.562577247619629 13.84253978729248, 8.540358543395996 13.842399597167969, 8.516386985778809 13.841679573059082, 8.502935409545898 13.838729858398438, 8.473407745361328 13.832269668579102, 8.45949935913086 13.82034969329834, 8.431432723999023 13.793310165405273, 8.415447235107422 13.79030990600586, 8.387155532836914 13.788969993591309, 8.37348747253418 13.78831958770752, 8.323546409606934 13.786080360412598, 8.284571647644043 13.784330368041992, 8.291547775268555 13.74137020111084, 8.229602813720703 13.72739028930664, 8.22661304473877 13.744379997253418, 8.215643882751465 13.794329643249512, 8.198686599731445 13.858280181884766, 8.16972541809082 13.883259773254395, 8.12777042388916 13.89225959777832, 8.093802452087402 13.891260147094727, 8.063838005065918 13.90526008605957, 8.044872283935547 13.943220138549805, 8.037888526916504 13.96720027923584, 7.999115943908691 14.02457046508789, 7.99936580657959 14.0349702835083, 8.003013610839844 14.187020301818848, 7.950088977813721 14.243969917297363, 8.111939430236816 14.263930320739746, 8.147891998291016 14.232959747314453, 8.181855201721191 14.225959777832031, 8.20982837677002 14.226949691772461, 8.252790451049805 14.236940383911133))\"]],\n        columns: [[\"number\", \"index\"], [\"number\", \"COLUMBUS_\"], [\"number\", \"COLUMBUS_I\"], [\"number\", \"POLYID\"], [\"number\", \"NEIG\"], [\"number\", \"HOVAL\"], [\"number\", \"INC\"], [\"number\", \"CRIME\"], [\"number\", \"OPEN\"], [\"number\", \"PLUMB\"], [\"number\", \"DISCBD\"], [\"number\", \"X\"], [\"number\", \"Y\"], [\"number\", \"THOUS\"], [\"number\", \"NEIGNO\"], [\"string\", \"geometry\"]],\n        columnOptions: [{\"width\": \"1px\", \"className\": \"index_column\"}],\n        rowsPerPage: 25,\n        helpUrl: \"https://colab.research.google.com/notebooks/data_table.ipynb\",\n        suppressOutputScrolling: true,\n        minimumWidth: undefined,\n      });\n\n      function appendQuickchartButton(parentElement) {\n        let quickchartButtonContainerElement = document.createElement('div');\n        quickchartButtonContainerElement.innerHTML = `\n<div id=\"df-9389c9b8-ae37-4995-a959-d1a7154b7601\">\n  <button class=\"colab-df-quickchart\" onclick=\"quickchart('df-9389c9b8-ae37-4995-a959-d1a7154b7601')\"\n            title=\"Suggest charts.\"\n            style=\"display:none;\">\n    \n<svg xmlns=\"http://www.w3.org/2000/svg\" height=\"24px\"viewBox=\"0 0 24 24\"\n     width=\"24px\">\n    <g>\n        <path d=\"M19 3H5c-1.1 0-2 .9-2 2v14c0 1.1.9 2 2 2h14c1.1 0 2-.9 2-2V5c0-1.1-.9-2-2-2zM9 17H7v-7h2v7zm4 0h-2V7h2v10zm4 0h-2v-4h2v4z\"/>\n    </g>\n</svg>\n  </button>\n  \n<style>\n  .colab-df-quickchart {\n      --bg-color: #E8F0FE;\n      --fill-color: #1967D2;\n      --hover-bg-color: #E2EBFA;\n      --hover-fill-color: #174EA6;\n      --disabled-fill-color: #AAA;\n      --disabled-bg-color: #DDD;\n  }\n\n  [theme=dark] .colab-df-quickchart {\n      --bg-color: #3B4455;\n      --fill-color: #D2E3FC;\n      --hover-bg-color: #434B5C;\n      --hover-fill-color: #FFFFFF;\n      --disabled-bg-color: #3B4455;\n      --disabled-fill-color: #666;\n  }\n\n  .colab-df-quickchart {\n    background-color: var(--bg-color);\n    border: none;\n    border-radius: 50%;\n    cursor: pointer;\n    display: none;\n    fill: var(--fill-color);\n    height: 32px;\n    padding: 0;\n    width: 32px;\n  }\n\n  .colab-df-quickchart:hover {\n    background-color: var(--hover-bg-color);\n    box-shadow: 0 1px 2px rgba(60, 64, 67, 0.3), 0 1px 3px 1px rgba(60, 64, 67, 0.15);\n    fill: var(--button-hover-fill-color);\n  }\n\n  .colab-df-quickchart-complete:disabled,\n  .colab-df-quickchart-complete:disabled:hover {\n    background-color: var(--disabled-bg-color);\n    fill: var(--disabled-fill-color);\n    box-shadow: none;\n  }\n\n  .colab-df-spinner {\n    border: 2px solid var(--fill-color);\n    border-color: transparent;\n    border-bottom-color: var(--fill-color);\n    animation:\n      spin 1s steps(1) infinite;\n  }\n\n  @keyframes spin {\n    0% {\n      border-color: transparent;\n      border-bottom-color: var(--fill-color);\n      border-left-color: var(--fill-color);\n    }\n    20% {\n      border-color: transparent;\n      border-left-color: var(--fill-color);\n      border-top-color: var(--fill-color);\n    }\n    30% {\n      border-color: transparent;\n      border-left-color: var(--fill-color);\n      border-top-color: var(--fill-color);\n      border-right-color: var(--fill-color);\n    }\n    40% {\n      border-color: transparent;\n      border-right-color: var(--fill-color);\n      border-top-color: var(--fill-color);\n    }\n    60% {\n      border-color: transparent;\n      border-right-color: var(--fill-color);\n    }\n    80% {\n      border-color: transparent;\n      border-right-color: var(--fill-color);\n      border-bottom-color: var(--fill-color);\n    }\n    90% {\n      border-color: transparent;\n      border-bottom-color: var(--fill-color);\n    }\n  }\n</style>\n\n  <script>\n    async function quickchart(key) {\n      const quickchartButtonEl =\n        document.querySelector('#' + key + ' button');\n      quickchartButtonEl.disabled = true;  // To prevent multiple clicks.\n      quickchartButtonEl.classList.add('colab-df-spinner');\n      try {\n        const charts = await google.colab.kernel.invokeFunction(\n            'suggestCharts', [key], {});\n      } catch (error) {\n        console.error('Error during call to suggestCharts:', error);\n      }\n      quickchartButtonEl.classList.remove('colab-df-spinner');\n      quickchartButtonEl.classList.add('colab-df-quickchart-complete');\n    }\n    (() => {\n      let quickchartButtonEl =\n        document.querySelector('#df-9389c9b8-ae37-4995-a959-d1a7154b7601 button');\n      quickchartButtonEl.style.display =\n        google.colab.kernel.accessAllowed ? 'block' : 'none';\n    })();\n  </script>\n</div>`;\n        parentElement.appendChild(quickchartButtonContainerElement);\n      }\n\n      appendQuickchartButton(table);\n    "
          },
          "metadata": {},
          "execution_count": 225
        }
      ]
    },
    {
      "cell_type": "markdown",
      "source": [
        "### pygeodata"
      ],
      "metadata": {
        "id": "u1yzOjo_yFT3"
      }
    },
    {
      "cell_type": "code",
      "source": [
        "g_col = pygeoda.open(col)\n",
        "queen_w = pygeoda.queen_weights(g_col)\n",
        "queen_w"
      ],
      "metadata": {
        "colab": {
          "base_uri": "https://localhost:8080/"
        },
        "id": "5FVItUvKaAoy",
        "outputId": "8fffbebd-42dd-410f-deeb-95c7b80b0852"
      },
      "execution_count": 8,
      "outputs": [
        {
          "output_type": "execute_result",
          "data": {
            "text/plain": [
              "Weights Meta-data:\n",
              " number of observations:                   49\n",
              "           is symmetric:                 True\n",
              "               sparsity:   0.0982923781757601\n",
              "        # min neighbors:                    2\n",
              "        # max neighbors:                   10\n",
              "       # mean neighbors:    4.816326530612245\n",
              "     # median neighbors:                  4.0\n",
              "           has isolates:                False"
            ]
          },
          "metadata": {},
          "execution_count": 8
        }
      ]
    },
    {
      "cell_type": "code",
      "source": [
        "queen_w.get_neighbors(0)"
      ],
      "metadata": {
        "colab": {
          "base_uri": "https://localhost:8080/"
        },
        "id": "lkDv-NQjffc8",
        "outputId": "59d0d629-faed-400f-e1a9-83ec849aa19e"
      },
      "execution_count": null,
      "outputs": [
        {
          "output_type": "execute_result",
          "data": {
            "text/plain": [
              "(1, 2)"
            ]
          },
          "metadata": {},
          "execution_count": 248
        }
      ]
    },
    {
      "cell_type": "code",
      "source": [
        "queen_w.get_neighbors(1)"
      ],
      "metadata": {
        "colab": {
          "base_uri": "https://localhost:8080/"
        },
        "id": "4EGF6KiRoInF",
        "outputId": "34ea4340-a120-4388-b873-0f5d32954542"
      },
      "execution_count": null,
      "outputs": [
        {
          "output_type": "execute_result",
          "data": {
            "text/plain": [
              "(0, 2, 3)"
            ]
          },
          "metadata": {},
          "execution_count": 249
        }
      ]
    },
    {
      "cell_type": "code",
      "source": [
        "col['CRIME'][0] #going back to 1st example--0 has crime of:"
      ],
      "metadata": {
        "colab": {
          "base_uri": "https://localhost:8080/"
        },
        "id": "VRLc2F0ho5_D",
        "outputId": "f00f2b40-9840-4e85-e81d-e9f02469fe33"
      },
      "execution_count": null,
      "outputs": [
        {
          "output_type": "execute_result",
          "data": {
            "text/plain": [
              "15.72598"
            ]
          },
          "metadata": {},
          "execution_count": 234
        }
      ]
    },
    {
      "cell_type": "code",
      "source": [
        "#and its 2 neighbors:\n",
        "col['CRIME'][1]\n",
        "print('')\n",
        "col['CRIME'][2]"
      ],
      "metadata": {
        "colab": {
          "base_uri": "https://localhost:8080/"
        },
        "id": "rH3exJHLpHqN",
        "outputId": "2fbeb002-f42a-4396-86a8-0573a48d538c"
      },
      "execution_count": null,
      "outputs": [
        {
          "output_type": "execute_result",
          "data": {
            "text/plain": [
              "18.801754"
            ]
          },
          "metadata": {},
          "execution_count": 236
        },
        {
          "output_type": "stream",
          "name": "stdout",
          "text": [
            "\n"
          ]
        },
        {
          "output_type": "execute_result",
          "data": {
            "text/plain": [
              "30.626781"
            ]
          },
          "metadata": {},
          "execution_count": 236
        }
      ]
    },
    {
      "cell_type": "code",
      "source": [
        "#so queen spatially lagged crime for 0 is the average of its 2 neighbors:\n",
        "(col['CRIME'][1]+col['CRIME'][2])/2"
      ],
      "metadata": {
        "colab": {
          "base_uri": "https://localhost:8080/"
        },
        "id": "uRDhiS_VpSj6",
        "outputId": "77dfdfc7-794f-4ce7-a8bc-d0c49faa5e2d"
      },
      "execution_count": null,
      "outputs": [
        {
          "output_type": "execute_result",
          "data": {
            "text/plain": [
              "24.7142675"
            ]
          },
          "metadata": {},
          "execution_count": 250
        }
      ]
    },
    {
      "cell_type": "code",
      "source": [
        "queen_w.spatial_lag(col['CRIME'])[0] #yay; and more functions: https://geodacenter.github.io/pygeoda/spatial_weights.html#queen-contiguity-weights"
      ],
      "metadata": {
        "colab": {
          "base_uri": "https://localhost:8080/"
        },
        "id": "BkSrp8wuoq_q",
        "outputId": "4f5884af-44bc-4cc5-d11d-276c4bde1923"
      },
      "execution_count": null,
      "outputs": [
        {
          "output_type": "execute_result",
          "data": {
            "text/plain": [
              "24.7142675"
            ]
          },
          "metadata": {},
          "execution_count": 251
        }
      ]
    },
    {
      "cell_type": "code",
      "source": [
        "#import numpy as np #TODO: not sure about this! there must be fucntion to calc it plus slides say its .5, not .7\n",
        "#np.corrcoef(col['CRIME'], queen_w.spatial_lag(col['CRIME']))"
      ],
      "metadata": {
        "id": "mWNZJoVbrbuE"
      },
      "execution_count": 9,
      "outputs": []
    },
    {
      "cell_type": "code",
      "source": [
        "#https://geodacenter.github.io/pygeoda/esda_geopandas.html#geopandas-pygeoda\n",
        "\n",
        "crm_prp = col['CRIME']\n",
        "crm_lisa = pygeoda.local_moran(queen_w, crm_prp)\n",
        "\n",
        "import matplotlib\n",
        "import matplotlib.pyplot as plt\n",
        "\n",
        "fig, ax = plt.subplots(figsize = (10,10))\n",
        "lisa_colors = crm_lisa.lisa_colors()\n",
        "lisa_labels = crm_lisa.lisa_labels()\n",
        "\n",
        "# attach LISA cluster indicators to geodataframe\n",
        "col['LISA'] = crm_lisa.lisa_clusters()\n",
        "\n",
        "for ctype, data in col.groupby('LISA'):\n",
        "    color = lisa_colors[ctype]\n",
        "    lbl = lisa_labels[ctype]\n",
        "    data.plot(color = color,\n",
        "        ax = ax,\n",
        "        label = lbl,\n",
        "        edgecolor = 'black',\n",
        "        linewidth = 0.2)\n",
        "\n",
        "# Place legend in the lower right hand corner of the plot\n",
        "lisa_legend = [matplotlib.lines.Line2D([0], [0], color=color, lw=2) for color in lisa_colors]\n",
        "ax.legend(lisa_legend, lisa_labels,loc='lower left', fontsize=12, frameon=True)\n",
        "ax.set(title='Local Moran Cluster Map of crime')\n",
        "ax.set_axis_off()"
      ],
      "metadata": {
        "colab": {
          "base_uri": "https://localhost:8080/",
          "height": 698
        },
        "id": "p0ZKh64ca8WU",
        "outputId": "cbad5893-34ba-4bc7-a893-69c27656afa4"
      },
      "execution_count": null,
      "outputs": [
        {
          "output_type": "execute_result",
          "data": {
            "text/plain": [
              "<Axes: >"
            ]
          },
          "metadata": {},
          "execution_count": 117
        },
        {
          "output_type": "execute_result",
          "data": {
            "text/plain": [
              "<Axes: >"
            ]
          },
          "metadata": {},
          "execution_count": 117
        },
        {
          "output_type": "execute_result",
          "data": {
            "text/plain": [
              "<Axes: >"
            ]
          },
          "metadata": {},
          "execution_count": 117
        },
        {
          "output_type": "execute_result",
          "data": {
            "text/plain": [
              "<Axes: >"
            ]
          },
          "metadata": {},
          "execution_count": 117
        },
        {
          "output_type": "execute_result",
          "data": {
            "text/plain": [
              "<Axes: >"
            ]
          },
          "metadata": {},
          "execution_count": 117
        },
        {
          "output_type": "execute_result",
          "data": {
            "text/plain": [
              "<matplotlib.legend.Legend at 0x782c33015750>"
            ]
          },
          "metadata": {},
          "execution_count": 117
        },
        {
          "output_type": "execute_result",
          "data": {
            "text/plain": [
              "[Text(0.5, 1.0, 'Local Moran Cluster Map of Crm_prp\\n Population per Crime against persons')]"
            ]
          },
          "metadata": {},
          "execution_count": 117
        },
        {
          "output_type": "display_data",
          "data": {
            "text/plain": [
              "<Figure size 1000x1000 with 1 Axes>"
            ],
            "image/png": "[encoded data removed]"
          },
          "metadata": {}
        }
      ]
    },
    {
      "cell_type": "markdown",
      "source": [
        "### pysal / esda\n",
        "\n",
        "https://github.com/pysal/esda/"
      ],
      "metadata": {
        "id": "79SLYII4yQb1"
      }
    },
    {
      "cell_type": "code",
      "source": [
        "!pip install libpysal\n",
        "!pip install esda"
      ],
      "metadata": {
        "id": "bBDeTHZlzLEU",
        "outputId": "d953a787-207b-4259-fd09-6425dc72b967",
        "colab": {
          "base_uri": "https://localhost:8080/"
        }
      },
      "execution_count": 12,
      "outputs": [
        {
          "output_type": "stream",
          "name": "stdout",
          "text": [
            "Collecting libpysal\n",
            "  Downloading libpysal-4.9.2-py3-none-any.whl (2.8 MB)\n",
            "\u001b[2K     \u001b[90m━━━━━━━━━━━━━━━━━━━━━━━━━━━━━━━━━━━━━━━━\u001b[0m \u001b[32m2.8/2.8 MB\u001b[0m \u001b[31m10.9 MB/s\u001b[0m eta \u001b[36m0:00:00\u001b[0m\n",
            "\u001b[?25hRequirement already satisfied: beautifulsoup4>=4.10 in /usr/local/lib/python3.10/dist-packages (from libpysal) (4.11.2)\n",
            "Requirement already satisfied: geopandas>=0.10.0 in /usr/local/lib/python3.10/dist-packages (from libpysal) (0.13.2)\n",
            "Requirement already satisfied: numpy>=1.22 in /usr/local/lib/python3.10/dist-packages (from libpysal) (1.23.5)\n",
            "Requirement already satisfied: packaging>=22 in /usr/local/lib/python3.10/dist-packages (from libpysal) (23.2)\n",
            "Requirement already satisfied: pandas>=1.4 in /usr/local/lib/python3.10/dist-packages (from libpysal) (1.5.3)\n",
            "Requirement already satisfied: platformdirs>=2.0.2 in /usr/local/lib/python3.10/dist-packages (from libpysal) (4.0.0)\n",
            "Requirement already satisfied: requests>=2.27 in /usr/local/lib/python3.10/dist-packages (from libpysal) (2.31.0)\n",
            "Requirement already satisfied: scipy>=1.8 in /usr/local/lib/python3.10/dist-packages (from libpysal) (1.11.3)\n",
            "Requirement already satisfied: shapely>=2.0.1 in /usr/local/lib/python3.10/dist-packages (from libpysal) (2.0.2)\n",
            "Requirement already satisfied: soupsieve>1.2 in /usr/local/lib/python3.10/dist-packages (from beautifulsoup4>=4.10->libpysal) (2.5)\n",
            "Requirement already satisfied: fiona>=1.8.19 in /usr/local/lib/python3.10/dist-packages (from geopandas>=0.10.0->libpysal) (1.9.5)\n",
            "Requirement already satisfied: pyproj>=3.0.1 in /usr/local/lib/python3.10/dist-packages (from geopandas>=0.10.0->libpysal) (3.6.1)\n",
            "Requirement already satisfied: python-dateutil>=2.8.1 in /usr/local/lib/python3.10/dist-packages (from pandas>=1.4->libpysal) (2.8.2)\n",
            "Requirement already satisfied: pytz>=2020.1 in /usr/local/lib/python3.10/dist-packages (from pandas>=1.4->libpysal) (2023.3.post1)\n",
            "Requirement already satisfied: charset-normalizer<4,>=2 in /usr/local/lib/python3.10/dist-packages (from requests>=2.27->libpysal) (3.3.2)\n",
            "Requirement already satisfied: idna<4,>=2.5 in /usr/local/lib/python3.10/dist-packages (from requests>=2.27->libpysal) (3.4)\n",
            "Requirement already satisfied: urllib3<3,>=1.21.1 in /usr/local/lib/python3.10/dist-packages (from requests>=2.27->libpysal) (2.0.7)\n",
            "Requirement already satisfied: certifi>=2017.4.17 in /usr/local/lib/python3.10/dist-packages (from requests>=2.27->libpysal) (2023.7.22)\n",
            "Requirement already satisfied: attrs>=19.2.0 in /usr/local/lib/python3.10/dist-packages (from fiona>=1.8.19->geopandas>=0.10.0->libpysal) (23.1.0)\n",
            "Requirement already satisfied: click~=8.0 in /usr/local/lib/python3.10/dist-packages (from fiona>=1.8.19->geopandas>=0.10.0->libpysal) (8.1.7)\n",
            "Requirement already satisfied: click-plugins>=1.0 in /usr/local/lib/python3.10/dist-packages (from fiona>=1.8.19->geopandas>=0.10.0->libpysal) (1.1.1)\n",
            "Requirement already satisfied: cligj>=0.5 in /usr/local/lib/python3.10/dist-packages (from fiona>=1.8.19->geopandas>=0.10.0->libpysal) (0.7.2)\n",
            "Requirement already satisfied: six in /usr/local/lib/python3.10/dist-packages (from fiona>=1.8.19->geopandas>=0.10.0->libpysal) (1.16.0)\n",
            "Requirement already satisfied: setuptools in /usr/local/lib/python3.10/dist-packages (from fiona>=1.8.19->geopandas>=0.10.0->libpysal) (67.7.2)\n",
            "Installing collected packages: libpysal\n",
            "Successfully installed libpysal-4.9.2\n",
            "Collecting esda\n",
            "  Downloading esda-2.5.1-py3-none-any.whl (132 kB)\n",
            "\u001b[2K     \u001b[90m━━━━━━━━━━━━━━━━━━━━━━━━━━━━━━━━━━━━━━━━\u001b[0m \u001b[32m132.4/132.4 kB\u001b[0m \u001b[31m2.9 MB/s\u001b[0m eta \u001b[36m0:00:00\u001b[0m\n",
            "\u001b[?25hRequirement already satisfied: libpysal in /usr/local/lib/python3.10/dist-packages (from esda) (4.9.2)\n",
            "Requirement already satisfied: pandas>1.4 in /usr/local/lib/python3.10/dist-packages (from esda) (1.5.3)\n",
            "Requirement already satisfied: scikit-learn>=1.0 in /usr/local/lib/python3.10/dist-packages (from esda) (1.2.2)\n",
            "Requirement already satisfied: scipy>=1.9 in /usr/local/lib/python3.10/dist-packages (from esda) (1.11.3)\n",
            "Requirement already satisfied: python-dateutil>=2.8.1 in /usr/local/lib/python3.10/dist-packages (from pandas>1.4->esda) (2.8.2)\n",
            "Requirement already satisfied: pytz>=2020.1 in /usr/local/lib/python3.10/dist-packages (from pandas>1.4->esda) (2023.3.post1)\n",
            "Requirement already satisfied: numpy>=1.21.0 in /usr/local/lib/python3.10/dist-packages (from pandas>1.4->esda) (1.23.5)\n",
            "Requirement already satisfied: joblib>=1.1.1 in /usr/local/lib/python3.10/dist-packages (from scikit-learn>=1.0->esda) (1.3.2)\n",
            "Requirement already satisfied: threadpoolctl>=2.0.0 in /usr/local/lib/python3.10/dist-packages (from scikit-learn>=1.0->esda) (3.2.0)\n",
            "Requirement already satisfied: beautifulsoup4>=4.10 in /usr/local/lib/python3.10/dist-packages (from libpysal->esda) (4.11.2)\n",
            "Requirement already satisfied: geopandas>=0.10.0 in /usr/local/lib/python3.10/dist-packages (from libpysal->esda) (0.13.2)\n",
            "Requirement already satisfied: packaging>=22 in /usr/local/lib/python3.10/dist-packages (from libpysal->esda) (23.2)\n",
            "Requirement already satisfied: platformdirs>=2.0.2 in /usr/local/lib/python3.10/dist-packages (from libpysal->esda) (4.0.0)\n",
            "Requirement already satisfied: requests>=2.27 in /usr/local/lib/python3.10/dist-packages (from libpysal->esda) (2.31.0)\n",
            "Requirement already satisfied: shapely>=2.0.1 in /usr/local/lib/python3.10/dist-packages (from libpysal->esda) (2.0.2)\n",
            "Requirement already satisfied: soupsieve>1.2 in /usr/local/lib/python3.10/dist-packages (from beautifulsoup4>=4.10->libpysal->esda) (2.5)\n",
            "Requirement already satisfied: fiona>=1.8.19 in /usr/local/lib/python3.10/dist-packages (from geopandas>=0.10.0->libpysal->esda) (1.9.5)\n",
            "Requirement already satisfied: pyproj>=3.0.1 in /usr/local/lib/python3.10/dist-packages (from geopandas>=0.10.0->libpysal->esda) (3.6.1)\n",
            "Requirement already satisfied: six>=1.5 in /usr/local/lib/python3.10/dist-packages (from python-dateutil>=2.8.1->pandas>1.4->esda) (1.16.0)\n",
            "Requirement already satisfied: charset-normalizer<4,>=2 in /usr/local/lib/python3.10/dist-packages (from requests>=2.27->libpysal->esda) (3.3.2)\n",
            "Requirement already satisfied: idna<4,>=2.5 in /usr/local/lib/python3.10/dist-packages (from requests>=2.27->libpysal->esda) (3.4)\n",
            "Requirement already satisfied: urllib3<3,>=1.21.1 in /usr/local/lib/python3.10/dist-packages (from requests>=2.27->libpysal->esda) (2.0.7)\n",
            "Requirement already satisfied: certifi>=2017.4.17 in /usr/local/lib/python3.10/dist-packages (from requests>=2.27->libpysal->esda) (2023.7.22)\n",
            "Requirement already satisfied: attrs>=19.2.0 in /usr/local/lib/python3.10/dist-packages (from fiona>=1.8.19->geopandas>=0.10.0->libpysal->esda) (23.1.0)\n",
            "Requirement already satisfied: click~=8.0 in /usr/local/lib/python3.10/dist-packages (from fiona>=1.8.19->geopandas>=0.10.0->libpysal->esda) (8.1.7)\n",
            "Requirement already satisfied: click-plugins>=1.0 in /usr/local/lib/python3.10/dist-packages (from fiona>=1.8.19->geopandas>=0.10.0->libpysal->esda) (1.1.1)\n",
            "Requirement already satisfied: cligj>=0.5 in /usr/local/lib/python3.10/dist-packages (from fiona>=1.8.19->geopandas>=0.10.0->libpysal->esda) (0.7.2)\n",
            "Requirement already satisfied: setuptools in /usr/local/lib/python3.10/dist-packages (from fiona>=1.8.19->geopandas>=0.10.0->libpysal->esda) (67.7.2)\n",
            "Installing collected packages: esda\n",
            "Successfully installed esda-2.5.1\n"
          ]
        }
      ]
    },
    {
      "cell_type": "code",
      "source": [
        "import libpysal as lps\n",
        "import esda"
      ],
      "metadata": {
        "id": "uYtVM8y4zI18"
      },
      "execution_count": 13,
      "outputs": []
    },
    {
      "cell_type": "code",
      "source": [
        "#https://github.com/pysal/esda/blob/main/notebooks/Spatial%20Autocorrelation%20for%20Areal%20Unit%20Data.ipynb\n",
        "wq =  lps.weights.Queen.from_dataframe(col)\n",
        "wq.transform = 'r'"
      ],
      "metadata": {
        "id": "Tuw7QakuzQfv",
        "outputId": "fa6ef34d-c911-4be5-dc5f-948823f0efba",
        "colab": {
          "base_uri": "https://localhost:8080/"
        }
      },
      "execution_count": 14,
      "outputs": [
        {
          "output_type": "stream",
          "name": "stderr",
          "text": [
            "<ipython-input-14-8fcd70f9a717>:2: FutureWarning: `use_index` defaults to False but will default to True in future. Set True/False directly to control this behavior and silence this warning\n",
            "  wq =  lps.weights.Queen.from_dataframe(col)\n"
          ]
        }
      ]
    },
    {
      "cell_type": "code",
      "source": [
        "y = col['CRIME']\n",
        "ylag = lps.weights.lag_spatial(wq, y)"
      ],
      "metadata": {
        "id": "ab--l3KIzlSC"
      },
      "execution_count": 15,
      "outputs": []
    },
    {
      "cell_type": "code",
      "source": [
        "#np.corrcoef(y,ylag) #ah ok again same thing"
      ],
      "metadata": {
        "id": "n1b1ilOMzuvM"
      },
      "execution_count": 10,
      "outputs": []
    },
    {
      "cell_type": "code",
      "source": [
        "mi = esda.moran.Moran(y, wq) #ha so now we got .5 as the slides say\n",
        "mi.I"
      ],
      "metadata": {
        "id": "gBx3Yl4c0E-c",
        "outputId": "0a4059be-9ecf-4388-cd3b-933010741e10",
        "colab": {
          "base_uri": "https://localhost:8080/"
        }
      },
      "execution_count": 16,
      "outputs": [
        {
          "output_type": "execute_result",
          "data": {
            "text/plain": [
              "0.5001885571828611"
            ]
          },
          "metadata": {},
          "execution_count": 16
        }
      ]
    },
    {
      "cell_type": "markdown",
      "source": [
        "# TODO\n",
        "\n",
        "have morans i scatterplot useful\n",
        "\n",
        "have old fashioned geoda run this stuff and make sure we are good! maybe already at bsb134 or library or some classroom"
      ],
      "metadata": {
        "id": "Qx52rPVEROlz"
      }
    }
  ]
}